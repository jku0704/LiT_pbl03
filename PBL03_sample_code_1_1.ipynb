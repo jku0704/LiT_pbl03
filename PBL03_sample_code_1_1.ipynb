{
  "cells": [
    {
      "cell_type": "markdown",
      "metadata": {
        "id": "view-in-github",
        "colab_type": "text"
      },
      "source": [
        "<a href=\"https://colab.research.google.com/github/jku0704/LiT_pbl03/blob/main/PBL03_sample_code_1_1.ipynb\" target=\"_parent\"><img src=\"https://colab.research.google.com/assets/colab-badge.svg\" alt=\"Open In Colab\"/></a>"
      ]
    },
    {
      "cell_type": "markdown",
      "metadata": {
        "id": "Kb-ZL8fkfGfr"
      },
      "source": [
        "#PBL03 工数予測　サンプルコード\n",
        "\n",
        "このコードはGoogle Colaboratory用に作成しています。\n",
        "\n",
        "当サンプルコードは、PBL03のデジタル課題（演習03）において、課題「工数予測結果の誤差が生じることで、機械稼働時間に非稼働時間が生まれている」に対し、工数予測AIモデルの構築と精度検証を目的としたものです。検証の方法論の足掛かりとしてご利用ください。当サンプルコードは以下の流れで構成されています。\n",
        "\n",
        "コードを順番に実行していけば、一通りの結果が出せるようになっているので、初学者の方はまずはそこからチャレンジてみてください。\n",
        "\n",
        "1. [前処理](#1)\n",
        "1. [モデリング](#2)\n",
        "1. [評価用データに対する予測](#3)\n",
        "1. [応募用結果ファイルの作成](#4)\n",
        "\n",
        "使用するデータは以下です。\n",
        "\n",
        "- readme.md\n",
        "- sample_submit.csv\n",
        "- test   フォルダ内のデータ\n",
        "- train  フォルダ内のデータ\n",
        "\n",
        "サイトからダウンロードし、Google Driveの直下に「DXQuest_PBL03」というフォルダを作成いただき、当該フォルダ内に当ノートブックおよび上記ファイルを配置してください。なお、以下のようなフォルダ構成を前提としています。\n",
        "\n",
        "```\n",
        "# DXQuest_PBL03\n",
        "│  PBL03_sample_code_1.1.ipynb\n",
        "│  readme.md\n",
        "│  sample_submit.csv\n",
        "│\n",
        "├─test\n",
        "│      actual_test.csv\n",
        "│      base_test.csv\n",
        "│      processing_test.csv\n",
        "│\n",
        "└─train\n",
        "        actual_train.csv\n",
        "        base_train.csv\n",
        "        processing_train.csv\n",
        "```\n",
        "\n",
        "⭐️初学者の方へ<br>\n",
        "わからない単語やエラーメッセージが出た際は、積極的に生成AIを活用してみましょう。\n",
        "\n",
        "生成AI活用ガイド\n",
        "https://lifeistech.notion.site/AI-0dc27ac2252342598a46b6948ff2e683?pvs=74"
      ]
    },
    {
      "cell_type": "markdown",
      "metadata": {
        "id": "waIrdiZffGfu"
      },
      "source": [
        "## 0. 初期設定\n",
        "- まず当ノートブックからデータにアクセスできるようにするため、Google Driveとの連携をします。"
      ]
    },
    {
      "cell_type": "code",
      "execution_count": 1,
      "metadata": {
        "id": "JmDfYWD6fX2d",
        "colab": {
          "base_uri": "https://localhost:8080/"
        },
        "outputId": "2490145c-38d8-4cca-c75e-a20bf26f06d7"
      },
      "outputs": [
        {
          "output_type": "stream",
          "name": "stdout",
          "text": [
            "Mounted at /content/drive\n"
          ]
        }
      ],
      "source": [
        "# このコードを実行してください（Ctrl + Enter）\n",
        "\n",
        "# Google Driveに接続できるdriveというモジュールをgoogle.colabというライブラリからインポートする。\n",
        "from google.colab import drive\n",
        "# Google Driveにマウント（接続）する。これにより、Colab上でGoogle Drive内のファイルにアクセスできるようになる。\n",
        "drive.mount('/content/drive')"
      ]
    },
    {
      "cell_type": "markdown",
      "metadata": {
        "id": "6u6I2bCHfkWf"
      },
      "source": [
        "\n",
        "  ⭐️初学者向け解説\n",
        "  ```\n",
        "  Google Colaboratoryでファイルを操作する際には、ファイルパスを設定して、プログラムがどこにファイルがあるかを認識できるようにします。\n",
        "  ファイルパスとは、ファイルが保存されている場所（ディレクトリ）を示す「住所」のようなものです。\n",
        "  プログラムはこのパスを使ってファイルを読み書きします。\n",
        "  ```"
      ]
    },
    {
      "cell_type": "code",
      "execution_count": 2,
      "metadata": {
        "id": "2KDxo--Efh2m"
      },
      "outputs": [],
      "source": [
        "# このコードを実行してください（Ctrl + Enter）\n",
        "\n",
        "import os #ファイルの操作ができるライブラリをインポートする\n",
        "\n",
        "# Google Drive内のデータが置いてある場所をpathに格納する。ここではマイドライブの中の「DXQuest_PBL03」というフォルダを指定している。\n",
        "path = '/content/drive/MyDrive/DXQuest_PBL03/'\n",
        "\n",
        "# ## ローカルの場合\n",
        "# path = \"./\""
      ]
    },
    {
      "cell_type": "markdown",
      "source": [
        "---\n",
        "#####Google Driveに接続することで、Colab上でGoogle Drive内のファイルにアクセスできるようにしました。<br>さらに、指定したフォルダへのパスを設定することで、Google Drive内のデータを簡単に操作できるようにしました。<br>次のセクションに進みましょう。\n",
        "---"
      ],
      "metadata": {
        "id": "hS0rqDH8Z8IK"
      }
    },
    {
      "cell_type": "markdown",
      "metadata": {
        "id": "it5xNm-efGfv"
      },
      "source": [
        "## 1. 前処理\n",
        "- まずデータの読み込みと可視化を行うために必要なライブラリをインポートします。<br><br>\n",
        "\n",
        "  ⭐️初学者向け解説\n",
        "  ```\n",
        "  前処理とは、データを本格的に分析・予測する前に行う、データの基本的な理解と整理を目的とした作業です。前分析とも呼ばれ、以下のような内容が含まれます。\n",
        "\n",
        "  ・データの全体像の把握\n",
        "  データの大きさ（行数・列数）、各列の内容、データ型などを確認し、データの構造を理解します。\n",
        "\n",
        "  ・欠損値や異常値の確認\n",
        "  欠損しているデータや不適切な値（例: 0や負の数など）がないかをチェックします。\n",
        "\n",
        "  ・データの傾向の把握\n",
        "  基本統計量の確認やグラフ作成（可視化）を通じて、データの傾向やパターン、ばらつきを理解します。\n",
        "\n",
        "  ・データのクリーニング\n",
        "  不要なデータを除去したり、欠損値を補完したりして、データをクリーンにする作業です。\n",
        "\n",
        "  前処理を行うことで、データの特徴や問題点を把握し、適切なモデリングや予測を行うための準備を整えることができます。\n",
        "  ```\n",
        "  ```\n",
        "  ライブラリとは、すでに用意された便利なツールや機能の集まりです。\n",
        "  これを使うことで、一からプログラムを作らなくても、難しい作業を簡単に行えるようになります。\n",
        "  インポートというのは、これらのライブラリをプログラムに「呼び出して使えるようにする」作業です。\n",
        "  ```"
      ]
    },
    {
      "cell_type": "code",
      "execution_count": 3,
      "metadata": {
        "id": "p72BX0f5fGfw"
      },
      "outputs": [],
      "source": [
        "# このコードを実行してください（Ctrl + Enter）\n",
        "\n",
        "import pandas as pd #表形式のデータを扱うためのライブラリをpdとしてインポートする\n",
        "import matplotlib.pyplot as plt #グラフを描画するためのライブラリをpltとしてインポートする"
      ]
    },
    {
      "cell_type": "markdown",
      "metadata": {
        "id": "4pbreFgofGfx"
      },
      "source": [
        "### 1-1. データの読み込みと中身の確認"
      ]
    },
    {
      "cell_type": "markdown",
      "metadata": {
        "id": "t-PSlmtxfGfx"
      },
      "source": [
        "- 基本データ、加工データ、実績データを読み込みます。"
      ]
    },
    {
      "cell_type": "code",
      "execution_count": 4,
      "metadata": {
        "id": "3Vn-9p1SfGfy",
        "colab": {
          "base_uri": "https://localhost:8080/"
        },
        "outputId": "bade772d-489b-43fe-a211-8ddb2988d805"
      },
      "outputs": [
        {
          "output_type": "stream",
          "name": "stderr",
          "text": [
            "<ipython-input-4-f12d277174a4>:5: DtypeWarning: Columns (2,9,15,24,33,34,35,38,39,43,45,46,48,49,50) have mixed types. Specify dtype option on import or set low_memory=False.\n",
            "  base_train = pd.read_csv(path + 'train/base_train.csv')\n",
            "<ipython-input-4-f12d277174a4>:6: DtypeWarning: Columns (12,13,15,16,22,23,30,33,34,40,41,42,43,44,45,46,47,48,49,50,51,52,53,54,55,56,57,58,59,61,63,65) have mixed types. Specify dtype option on import or set low_memory=False.\n",
            "  processing_train = pd.read_csv(path + 'train/processing_train.csv')\n"
          ]
        }
      ],
      "source": [
        "# このコードを実行してください（Ctrl + Enter）\n",
        "\n",
        "# 先ほどpathで指定した場所の中にあるファイルをpandas内にあるread_csvを使って読み込んでいる。\n",
        "# 読み込んだデータはそれぞれの変数に格納していく。\n",
        "base_train = pd.read_csv(path + 'train/base_train.csv')\n",
        "processing_train = pd.read_csv(path + 'train/processing_train.csv')\n",
        "actual_train = pd.read_csv(path + 'train/actual_train.csv')"
      ]
    },
    {
      "cell_type": "markdown",
      "source": [
        "---\n",
        "#####データを表形式で扱うために、Pandasライブラリをインポートしました。<br>また、グラフを描画するためのライブラリMatplotlibをインポートしました。これにより、データの分析や視覚化が可能になりました。<br>次のセクションに進みましょう。\n",
        "---"
      ],
      "metadata": {
        "id": "KQqOBjwaaJMK"
      }
    },
    {
      "cell_type": "markdown",
      "metadata": {
        "id": "FPSWl8MofGfy"
      },
      "source": [
        "- 次に、それぞれの行数や列数とデータ型などを確認します。<br>\n",
        "- .info()はPandasデータフレームに対して使われるメソッドで、このメソッドは、データの構造やデータ型、メモリ使用量などを素早く確認したい場合に便利です。<br>\n",
        "- .info()を実行すると行数・列数、列名とデータ型、非欠損値の数、メモリ使用量が表示されます。<br><br>\n",
        "  \n",
        "  ⭐️初学者向け解説\n",
        "  ```\n",
        "  .info()メソッドを使う目的は、データの基本的な情報を簡単に確認するためです。具体的には次のことがわかります。\n",
        "\n",
        "  ・データの大きさ\n",
        "  何行・何列あるかを確認して、どれくらいのデータを扱うのかを知ることができます。\n",
        "\n",
        "  ・データの種類\n",
        "  各列が数字なのか文字なのか、どんなタイプのデータかをチェックします。これによって、データの形式が正しいか確認できます。\n",
        "\n",
        "  ・欠けているデータ\n",
        "  どの列にデータが不足している（欠損している）かを見つけて、必要に応じて処理を考えます。\n",
        "\n",
        "  ・メモリの使用量\n",
        "  データがどれくらいのメモリを使っているかを確認します。これによって、パソコンに負担がかかりすぎていないかを確認できます。\n",
        "  ```"
      ]
    },
    {
      "cell_type": "code",
      "execution_count": 5,
      "metadata": {
        "id": "bno99s08fGfy",
        "scrolled": true,
        "colab": {
          "base_uri": "https://localhost:8080/"
        },
        "outputId": "e4d94789-7ede-4b84-8b49-947a4c186961"
      },
      "outputs": [
        {
          "output_type": "stream",
          "name": "stdout",
          "text": [
            "<class 'pandas.core.frame.DataFrame'>\n",
            "RangeIndex: 16913 entries, 0 to 16912\n",
            "Data columns (total 79 columns):\n",
            " #   Column             Non-Null Count  Dtype  \n",
            "---  ------             --------------  -----  \n",
            " 0   受注番号               16913 non-null  object \n",
            " 1   受注日                16913 non-null  object \n",
            " 2   製品仕様コード            16912 non-null  object \n",
            " 3   受注数量               9394 non-null   float64\n",
            " 4   実績数量               9273 non-null   object \n",
            " 5   下版予定日              9394 non-null   object \n",
            " 6   流用受注番号             11530 non-null  object \n",
            " 7   流用受注日              11530 non-null  object \n",
            " 8   流用製品仕様コード          9258 non-null   object \n",
            " 9   頁数                 9373 non-null   object \n",
            " 10  キャンペーン番号           9271 non-null   object \n",
            " 11  受注キャンペーン番号         9271 non-null   object \n",
            " 12  キャンペーンフラグ          9271 non-null   float64\n",
            " 13  付合受注番号             9271 non-null   object \n",
            " 14  付合フラグ              9271 non-null   float64\n",
            " 15  受注区分               9271 non-null   object \n",
            " 16  受注区分名              9271 non-null   object \n",
            " 17  納期                 9394 non-null   object \n",
            " 18  納期詳細               9271 non-null   object \n",
            " 19  初回出荷日              9271 non-null   object \n",
            " 20  先方注文番号             9271 non-null   object \n",
            " 21  事業所親コード            9270 non-null   object \n",
            " 22  事業所子コード            9270 non-null   object \n",
            " 23  事業所コード             9270 non-null   object \n",
            " 24  部門コード              9271 non-null   object \n",
            " 25  営業担当者コード           9271 non-null   float64\n",
            " 26  得意先親コード            9271 non-null   float64\n",
            " 27  得意先子コード            9271 non-null   float64\n",
            " 28  得意先コード             9271 non-null   object \n",
            " 29  版番号                9271 non-null   object \n",
            " 30  ロット番号              9271 non-null   object \n",
            " 31  仕上寸法区分             9300 non-null   object \n",
            " 32  仕上寸法区分名            9271 non-null   object \n",
            " 33  仕上寸法幅              9271 non-null   object \n",
            " 34  仕上寸法長さ             9271 non-null   object \n",
            " 35  仕上寸法厚さ             9271 non-null   object \n",
            " 36  展開寸法区分             9271 non-null   object \n",
            " 37  展開寸法区分名            9271 non-null   object \n",
            " 38  展開寸法幅              15152 non-null  object \n",
            " 39  展開寸法長さ             15157 non-null  object \n",
            " 40  展開寸法厚さ             9271 non-null   object \n",
            " 41  製品区分               9271 non-null   object \n",
            " 42  製品区分名              9271 non-null   object \n",
            " 43  リピート区分             9271 non-null   object \n",
            " 44  リピート区分名            9271 non-null   object \n",
            " 45  仕様登録者コード           9271 non-null   object \n",
            " 46  単位区分               9271 non-null   object \n",
            " 47  単位区分名              9271 non-null   object \n",
            " 48  客先サンプル数量           9271 non-null   object \n",
            " 49  営業サンプル数量           9271 non-null   object \n",
            " 50  版区分                9271 non-null   object \n",
            " 51  版区分名               9271 non-null   object \n",
            " 52  預在区分               9271 non-null   object \n",
            " 53  預在区分名              9271 non-null   object \n",
            " 54  上長確認フラグ            9271 non-null   float64\n",
            " 55  受注キャンセルフラグ         9271 non-null   float64\n",
            " 56  完納フラグ              9271 non-null   float64\n",
            " 57  受注伝票発行済フラグ         9271 non-null   float64\n",
            " 58  受注伝票発行年月日          9271 non-null   object \n",
            " 59  受注伝票発行回数           9271 non-null   float64\n",
            " 60  制作伝票発行済フラグ         9271 non-null   float64\n",
            " 61  制作伝票発行年月日          9271 non-null   object \n",
            " 62  制作伝票発行回数           9271 non-null   float64\n",
            " 63  特練インキ発行済フラグ        9271 non-null   float64\n",
            " 64  特練インキ発行年月日         9271 non-null   object \n",
            " 65  特練インキ発行回数          9271 non-null   float64\n",
            " 66  規格書発行済フラグ          9271 non-null   float64\n",
            " 67  規格書発行年月日           9271 non-null   object \n",
            " 68  規格書発行回数            9271 non-null   float64\n",
            " 69  作業伝票チェックシート発行済フラグ  9271 non-null   float64\n",
            " 70  作業伝票チェックシート発行年月日   9271 non-null   object \n",
            " 71  作業伝票チェックシート発行回数    9271 non-null   float64\n",
            " 72  送品書発行済フラグ          9271 non-null   float64\n",
            " 73  送品書発行年月日           9271 non-null   object \n",
            " 74  送品書発行回数            9271 non-null   float64\n",
            " 75  最終売上日              9271 non-null   object \n",
            " 76  予定組反映フラグ           9271 non-null   float64\n",
            " 77  下版予定日詳細            9271 non-null   object \n",
            " 78  受注キャンセル日           9271 non-null   object \n",
            "dtypes: float64(22), object(57)\n",
            "memory usage: 10.2+ MB\n"
          ]
        }
      ],
      "source": [
        "# このコードを実行してください（Ctrl + Enter）\n",
        "\n",
        "base_train.info()"
      ]
    },
    {
      "cell_type": "code",
      "execution_count": 6,
      "metadata": {
        "id": "0mwGgc4yfGfz",
        "scrolled": true,
        "colab": {
          "base_uri": "https://localhost:8080/"
        },
        "outputId": "a5068618-e56b-41c6-bf6d-157d290696dc"
      },
      "outputs": [
        {
          "output_type": "stream",
          "name": "stdout",
          "text": [
            "<class 'pandas.core.frame.DataFrame'>\n",
            "RangeIndex: 22095 entries, 0 to 22094\n",
            "Data columns (total 67 columns):\n",
            " #   Column     Non-Null Count  Dtype  \n",
            "---  ------     --------------  -----  \n",
            " 0   受注番号       22095 non-null  object \n",
            " 1   号機名        22095 non-null  object \n",
            " 2   号機コード      22095 non-null  int64  \n",
            " 3   数量1        22069 non-null  object \n",
            " 4   数量項目名1     20527 non-null  object \n",
            " 5   数量2        20593 non-null  object \n",
            " 6   数量項目名2     7582 non-null   object \n",
            " 7   数量3        20592 non-null  object \n",
            " 8   数量項目名3     7576 non-null   object \n",
            " 9   数量4        14734 non-null  object \n",
            " 10  数量項目名4     0 non-null      float64\n",
            " 11  合計数量       14621 non-null  float64\n",
            " 12  予備数量       14621 non-null  object \n",
            " 13  仕上数量       14621 non-null  object \n",
            " 14  連量         8790 non-null   float64\n",
            " 15  加工数量       14621 non-null  object \n",
            " 16  台数         20289 non-null  object \n",
            " 17  通し実数       7299 non-null   float64\n",
            " 18  刷了数        7299 non-null   float64\n",
            " 19  印刷予備数      7293 non-null   float64\n",
            " 20  加工予備数      6947 non-null   float64\n",
            " 21  製品仕様コード    22032 non-null  float64\n",
            " 22  カテゴリ名1     9255 non-null   object \n",
            " 23  カテゴリ名2     8792 non-null   object \n",
            " 24  工程コード      22095 non-null  float64\n",
            " 25  工程名        22095 non-null  object \n",
            " 26  表色数        7435 non-null   float64\n",
            " 27  裏色数        5827 non-null   float64\n",
            " 28  刷本寸法長さ     7412 non-null   float64\n",
            " 29  刷本寸法幅      7412 non-null   float64\n",
            " 30  部品区分       19549 non-null  object \n",
            " 31  部品区分名      18703 non-null  object \n",
            " 32  部品行番号      12839 non-null  float64\n",
            " 33  部品仕様番号     12839 non-null  object \n",
            " 34  部品仕様コード    12839 non-null  object \n",
            " 35  表示順        12839 non-null  float64\n",
            " 36  印刷前工程フラグ   12839 non-null  float64\n",
            " 37  加工行番号      12839 non-null  float64\n",
            " 38  加工順        12839 non-null  float64\n",
            " 39  加工単位区分     12839 non-null  float64\n",
            " 40  加工単位区分名    12839 non-null  object \n",
            " 41  協力会社親コード   12839 non-null  object \n",
            " 42  協力会社子コード   12839 non-null  object \n",
            " 43  協力会社コード    12702 non-null  object \n",
            " 44  サイズ区分      12839 non-null  object \n",
            " 45  サイズ区分名     12839 non-null  object \n",
            " 46  サイズ幅       12839 non-null  object \n",
            " 47  サイズ長さ      12839 non-null  object \n",
            " 48  抜型番号       12839 non-null  object \n",
            " 49  抜型区分       12839 non-null  object \n",
            " 50  抜型区分名      12839 non-null  object \n",
            " 51  抜型納入日      12839 non-null  object \n",
            " 52  ストリッパー区分   12839 non-null  object \n",
            " 53  ストリッパー区分名  12839 non-null  object \n",
            " 54  ブランキング区分   12839 non-null  object \n",
            " 55  ブランキング区分名  12839 non-null  object \n",
            " 56  加工表裏指定区分   12839 non-null  object \n",
            " 57  加工表裏指定区分名  12839 non-null  object \n",
            " 58  単位区分       12839 non-null  object \n",
            " 59  単位区分名      12839 non-null  object \n",
            " 60  仕分区分       12839 non-null  float64\n",
            " 61  仕分区分名      12839 non-null  object \n",
            " 62  間紙区分       12839 non-null  float64\n",
            " 63  間紙区分名      12839 non-null  object \n",
            " 64  紙帯区分       12839 non-null  float64\n",
            " 65  紙帯区分名      12839 non-null  object \n",
            " 66  予定組ラベルキー   22095 non-null  object \n",
            "dtypes: float64(22), int64(1), object(44)\n",
            "memory usage: 11.3+ MB\n"
          ]
        }
      ],
      "source": [
        "# このコードを実行してください（Ctrl + Enter）\n",
        "\n",
        "processing_train.info()"
      ]
    },
    {
      "cell_type": "code",
      "execution_count": 7,
      "metadata": {
        "id": "dJZG81jufGfz",
        "scrolled": true,
        "colab": {
          "base_uri": "https://localhost:8080/"
        },
        "outputId": "770d8131-309d-43d6-d4a7-6be44c335bfc"
      },
      "outputs": [
        {
          "output_type": "stream",
          "name": "stdout",
          "text": [
            "<class 'pandas.core.frame.DataFrame'>\n",
            "RangeIndex: 110953 entries, 0 to 110952\n",
            "Data columns (total 37 columns):\n",
            " #   Column     Non-Null Count   Dtype  \n",
            "---  ------     --------------   -----  \n",
            " 0   作業実績番号     110953 non-null  object \n",
            " 1   作業日        110953 non-null  object \n",
            " 2   受注番号       110953 non-null  object \n",
            " 3   号機名        110953 non-null  object \n",
            " 4   号機コード      110953 non-null  int64  \n",
            " 5   事業所コード     110952 non-null  float64\n",
            " 6   部門コード      110952 non-null  float64\n",
            " 7   工程コード      110953 non-null  int64  \n",
            " 8   工程名        110953 non-null  object \n",
            " 9   得意先コード     110952 non-null  object \n",
            " 10  作業者コード     110953 non-null  int64  \n",
            " 11  工程作業コード    110952 non-null  float64\n",
            " 12  工程作業名      110952 non-null  object \n",
            " 13  工程作業詳細コード  89850 non-null   object \n",
            " 14  工程作業詳細名    89850 non-null   object \n",
            " 15  作業人数       110953 non-null  int64  \n",
            " 16  開始時刻       110953 non-null  object \n",
            " 17  終了時刻       110952 non-null  object \n",
            " 18  所要時間       110952 non-null  float64\n",
            " 19  作業時間       110953 non-null  int64  \n",
            " 20  残業時間       110953 non-null  int64  \n",
            " 21  合計時間       110953 non-null  int64  \n",
            " 22  製造完成数量     102101 non-null  object \n",
            " 23  完了区分       102100 non-null  object \n",
            " 24  完了区分名      86906 non-null   object \n",
            " 25  作成日        102100 non-null  object \n",
            " 26  作成担当者コード   102099 non-null  float64\n",
            " 27  作成端末コード    102100 non-null  object \n",
            " 28  更新日        102100 non-null  object \n",
            " 29  更新回数       102100 non-null  float64\n",
            " 30  更新担当者コード   102099 non-null  float64\n",
            " 31  更新端末コード    102100 non-null  object \n",
            " 32  削除日        102100 non-null  object \n",
            " 33  削除フラグ      102100 non-null  float64\n",
            " 34  削除担当者コード   102100 non-null  object \n",
            " 35  削除端末コード    102100 non-null  object \n",
            " 36  取込キー       102100 non-null  object \n",
            "dtypes: float64(8), int64(7), object(22)\n",
            "memory usage: 31.3+ MB\n"
          ]
        }
      ],
      "source": [
        "# このコードを実行してください（Ctrl + Enter）\n",
        "\n",
        "actual_train.info()"
      ]
    },
    {
      "cell_type": "markdown",
      "source": [
        "---\n",
        "#####それぞれのデータセットの概要情報（カラム名、データ型、欠損値の有無など）を確認できました。<br>これにより、データの構造や状態を把握し、次の処理に進む準備が整いました。<br>それぞれ行数や列数が多く、データ型も混在していて、欠損値も目立つことが分かります。<br>次のセクションに進みましょう。\n",
        "---\n",
        "\n",
        "\n",
        "\n",
        "\n",
        "\n",
        "\n"
      ],
      "metadata": {
        "id": "PZrMkzqBaUH2"
      }
    },
    {
      "cell_type": "markdown",
      "metadata": {
        "id": "mTKE9hChfGfz"
      },
      "source": [
        "### 1-2.目的変数の分布の確認"
      ]
    },
    {
      "cell_type": "markdown",
      "metadata": {
        "id": "fWrCdDZsfGfz"
      },
      "source": [
        "- 目的変数は正味作業時間と付帯作業時間です。これらは実績データの中に存在し、それぞれカラム名は\"作業時間\"と\"合計時間\"となります。まずはそれぞれの基本統計量を確認します。<br>\n",
        "- 基本統計量は、データの中心傾向や散らばり具合、形状などを把握するために使われる統計的な数値のことです。データセットの要約や概要を理解するために非常に役立ちます。<br><br>\n",
        "  \n",
        "  ⭐️初学者向け解説\n",
        "  ```\n",
        "  基本統計量とは、データの特徴を数値で表したものです。\n",
        "  たとえば、平均（データの中心）、中央値（真ん中の値）、最大値や最小値、標準偏差（データのばらつき）などがあります。\n",
        "  これにより、データがどのように分布しているか、またデータの特徴がつかめます。\n",
        "  基本統計量を確認することで、データの大まかな傾向や異常値の有無を把握し、次のステップであるモデリングや前処理に役立てることができます。\n",
        "  ```"
      ]
    },
    {
      "cell_type": "code",
      "execution_count": 8,
      "metadata": {
        "id": "Qj6HyVQJfGf0",
        "colab": {
          "base_uri": "https://localhost:8080/",
          "height": 300
        },
        "outputId": "9b20aaeb-7448-4ae0-90d2-35629d61ab57"
      },
      "outputs": [
        {
          "output_type": "execute_result",
          "data": {
            "text/plain": [
              "                作業時間           合計時間\n",
              "count  110953.000000  110953.000000\n",
              "mean       39.473687      40.323416\n",
              "std       165.640433     165.708167\n",
              "min         0.000000     -30.000000\n",
              "25%         0.000000       0.000000\n",
              "50%         7.000000       9.000000\n",
              "75%        30.000000      30.000000\n",
              "max     13700.000000   13700.000000"
            ],
            "text/html": [
              "\n",
              "  <div id=\"df-7418e903-19e0-4110-8a25-41e9562db417\" class=\"colab-df-container\">\n",
              "    <div>\n",
              "<style scoped>\n",
              "    .dataframe tbody tr th:only-of-type {\n",
              "        vertical-align: middle;\n",
              "    }\n",
              "\n",
              "    .dataframe tbody tr th {\n",
              "        vertical-align: top;\n",
              "    }\n",
              "\n",
              "    .dataframe thead th {\n",
              "        text-align: right;\n",
              "    }\n",
              "</style>\n",
              "<table border=\"1\" class=\"dataframe\">\n",
              "  <thead>\n",
              "    <tr style=\"text-align: right;\">\n",
              "      <th></th>\n",
              "      <th>作業時間</th>\n",
              "      <th>合計時間</th>\n",
              "    </tr>\n",
              "  </thead>\n",
              "  <tbody>\n",
              "    <tr>\n",
              "      <th>count</th>\n",
              "      <td>110953.000000</td>\n",
              "      <td>110953.000000</td>\n",
              "    </tr>\n",
              "    <tr>\n",
              "      <th>mean</th>\n",
              "      <td>39.473687</td>\n",
              "      <td>40.323416</td>\n",
              "    </tr>\n",
              "    <tr>\n",
              "      <th>std</th>\n",
              "      <td>165.640433</td>\n",
              "      <td>165.708167</td>\n",
              "    </tr>\n",
              "    <tr>\n",
              "      <th>min</th>\n",
              "      <td>0.000000</td>\n",
              "      <td>-30.000000</td>\n",
              "    </tr>\n",
              "    <tr>\n",
              "      <th>25%</th>\n",
              "      <td>0.000000</td>\n",
              "      <td>0.000000</td>\n",
              "    </tr>\n",
              "    <tr>\n",
              "      <th>50%</th>\n",
              "      <td>7.000000</td>\n",
              "      <td>9.000000</td>\n",
              "    </tr>\n",
              "    <tr>\n",
              "      <th>75%</th>\n",
              "      <td>30.000000</td>\n",
              "      <td>30.000000</td>\n",
              "    </tr>\n",
              "    <tr>\n",
              "      <th>max</th>\n",
              "      <td>13700.000000</td>\n",
              "      <td>13700.000000</td>\n",
              "    </tr>\n",
              "  </tbody>\n",
              "</table>\n",
              "</div>\n",
              "    <div class=\"colab-df-buttons\">\n",
              "\n",
              "  <div class=\"colab-df-container\">\n",
              "    <button class=\"colab-df-convert\" onclick=\"convertToInteractive('df-7418e903-19e0-4110-8a25-41e9562db417')\"\n",
              "            title=\"Convert this dataframe to an interactive table.\"\n",
              "            style=\"display:none;\">\n",
              "\n",
              "  <svg xmlns=\"http://www.w3.org/2000/svg\" height=\"24px\" viewBox=\"0 -960 960 960\">\n",
              "    <path d=\"M120-120v-720h720v720H120Zm60-500h600v-160H180v160Zm220 220h160v-160H400v160Zm0 220h160v-160H400v160ZM180-400h160v-160H180v160Zm440 0h160v-160H620v160ZM180-180h160v-160H180v160Zm440 0h160v-160H620v160Z\"/>\n",
              "  </svg>\n",
              "    </button>\n",
              "\n",
              "  <style>\n",
              "    .colab-df-container {\n",
              "      display:flex;\n",
              "      gap: 12px;\n",
              "    }\n",
              "\n",
              "    .colab-df-convert {\n",
              "      background-color: #E8F0FE;\n",
              "      border: none;\n",
              "      border-radius: 50%;\n",
              "      cursor: pointer;\n",
              "      display: none;\n",
              "      fill: #1967D2;\n",
              "      height: 32px;\n",
              "      padding: 0 0 0 0;\n",
              "      width: 32px;\n",
              "    }\n",
              "\n",
              "    .colab-df-convert:hover {\n",
              "      background-color: #E2EBFA;\n",
              "      box-shadow: 0px 1px 2px rgba(60, 64, 67, 0.3), 0px 1px 3px 1px rgba(60, 64, 67, 0.15);\n",
              "      fill: #174EA6;\n",
              "    }\n",
              "\n",
              "    .colab-df-buttons div {\n",
              "      margin-bottom: 4px;\n",
              "    }\n",
              "\n",
              "    [theme=dark] .colab-df-convert {\n",
              "      background-color: #3B4455;\n",
              "      fill: #D2E3FC;\n",
              "    }\n",
              "\n",
              "    [theme=dark] .colab-df-convert:hover {\n",
              "      background-color: #434B5C;\n",
              "      box-shadow: 0px 1px 3px 1px rgba(0, 0, 0, 0.15);\n",
              "      filter: drop-shadow(0px 1px 2px rgba(0, 0, 0, 0.3));\n",
              "      fill: #FFFFFF;\n",
              "    }\n",
              "  </style>\n",
              "\n",
              "    <script>\n",
              "      const buttonEl =\n",
              "        document.querySelector('#df-7418e903-19e0-4110-8a25-41e9562db417 button.colab-df-convert');\n",
              "      buttonEl.style.display =\n",
              "        google.colab.kernel.accessAllowed ? 'block' : 'none';\n",
              "\n",
              "      async function convertToInteractive(key) {\n",
              "        const element = document.querySelector('#df-7418e903-19e0-4110-8a25-41e9562db417');\n",
              "        const dataTable =\n",
              "          await google.colab.kernel.invokeFunction('convertToInteractive',\n",
              "                                                    [key], {});\n",
              "        if (!dataTable) return;\n",
              "\n",
              "        const docLinkHtml = 'Like what you see? Visit the ' +\n",
              "          '<a target=\"_blank\" href=https://colab.research.google.com/notebooks/data_table.ipynb>data table notebook</a>'\n",
              "          + ' to learn more about interactive tables.';\n",
              "        element.innerHTML = '';\n",
              "        dataTable['output_type'] = 'display_data';\n",
              "        await google.colab.output.renderOutput(dataTable, element);\n",
              "        const docLink = document.createElement('div');\n",
              "        docLink.innerHTML = docLinkHtml;\n",
              "        element.appendChild(docLink);\n",
              "      }\n",
              "    </script>\n",
              "  </div>\n",
              "\n",
              "\n",
              "<div id=\"df-89e73584-0b5a-44d7-89df-85dbc28ed4ec\">\n",
              "  <button class=\"colab-df-quickchart\" onclick=\"quickchart('df-89e73584-0b5a-44d7-89df-85dbc28ed4ec')\"\n",
              "            title=\"Suggest charts\"\n",
              "            style=\"display:none;\">\n",
              "\n",
              "<svg xmlns=\"http://www.w3.org/2000/svg\" height=\"24px\"viewBox=\"0 0 24 24\"\n",
              "     width=\"24px\">\n",
              "    <g>\n",
              "        <path d=\"M19 3H5c-1.1 0-2 .9-2 2v14c0 1.1.9 2 2 2h14c1.1 0 2-.9 2-2V5c0-1.1-.9-2-2-2zM9 17H7v-7h2v7zm4 0h-2V7h2v10zm4 0h-2v-4h2v4z\"/>\n",
              "    </g>\n",
              "</svg>\n",
              "  </button>\n",
              "\n",
              "<style>\n",
              "  .colab-df-quickchart {\n",
              "      --bg-color: #E8F0FE;\n",
              "      --fill-color: #1967D2;\n",
              "      --hover-bg-color: #E2EBFA;\n",
              "      --hover-fill-color: #174EA6;\n",
              "      --disabled-fill-color: #AAA;\n",
              "      --disabled-bg-color: #DDD;\n",
              "  }\n",
              "\n",
              "  [theme=dark] .colab-df-quickchart {\n",
              "      --bg-color: #3B4455;\n",
              "      --fill-color: #D2E3FC;\n",
              "      --hover-bg-color: #434B5C;\n",
              "      --hover-fill-color: #FFFFFF;\n",
              "      --disabled-bg-color: #3B4455;\n",
              "      --disabled-fill-color: #666;\n",
              "  }\n",
              "\n",
              "  .colab-df-quickchart {\n",
              "    background-color: var(--bg-color);\n",
              "    border: none;\n",
              "    border-radius: 50%;\n",
              "    cursor: pointer;\n",
              "    display: none;\n",
              "    fill: var(--fill-color);\n",
              "    height: 32px;\n",
              "    padding: 0;\n",
              "    width: 32px;\n",
              "  }\n",
              "\n",
              "  .colab-df-quickchart:hover {\n",
              "    background-color: var(--hover-bg-color);\n",
              "    box-shadow: 0 1px 2px rgba(60, 64, 67, 0.3), 0 1px 3px 1px rgba(60, 64, 67, 0.15);\n",
              "    fill: var(--button-hover-fill-color);\n",
              "  }\n",
              "\n",
              "  .colab-df-quickchart-complete:disabled,\n",
              "  .colab-df-quickchart-complete:disabled:hover {\n",
              "    background-color: var(--disabled-bg-color);\n",
              "    fill: var(--disabled-fill-color);\n",
              "    box-shadow: none;\n",
              "  }\n",
              "\n",
              "  .colab-df-spinner {\n",
              "    border: 2px solid var(--fill-color);\n",
              "    border-color: transparent;\n",
              "    border-bottom-color: var(--fill-color);\n",
              "    animation:\n",
              "      spin 1s steps(1) infinite;\n",
              "  }\n",
              "\n",
              "  @keyframes spin {\n",
              "    0% {\n",
              "      border-color: transparent;\n",
              "      border-bottom-color: var(--fill-color);\n",
              "      border-left-color: var(--fill-color);\n",
              "    }\n",
              "    20% {\n",
              "      border-color: transparent;\n",
              "      border-left-color: var(--fill-color);\n",
              "      border-top-color: var(--fill-color);\n",
              "    }\n",
              "    30% {\n",
              "      border-color: transparent;\n",
              "      border-left-color: var(--fill-color);\n",
              "      border-top-color: var(--fill-color);\n",
              "      border-right-color: var(--fill-color);\n",
              "    }\n",
              "    40% {\n",
              "      border-color: transparent;\n",
              "      border-right-color: var(--fill-color);\n",
              "      border-top-color: var(--fill-color);\n",
              "    }\n",
              "    60% {\n",
              "      border-color: transparent;\n",
              "      border-right-color: var(--fill-color);\n",
              "    }\n",
              "    80% {\n",
              "      border-color: transparent;\n",
              "      border-right-color: var(--fill-color);\n",
              "      border-bottom-color: var(--fill-color);\n",
              "    }\n",
              "    90% {\n",
              "      border-color: transparent;\n",
              "      border-bottom-color: var(--fill-color);\n",
              "    }\n",
              "  }\n",
              "</style>\n",
              "\n",
              "  <script>\n",
              "    async function quickchart(key) {\n",
              "      const quickchartButtonEl =\n",
              "        document.querySelector('#' + key + ' button');\n",
              "      quickchartButtonEl.disabled = true;  // To prevent multiple clicks.\n",
              "      quickchartButtonEl.classList.add('colab-df-spinner');\n",
              "      try {\n",
              "        const charts = await google.colab.kernel.invokeFunction(\n",
              "            'suggestCharts', [key], {});\n",
              "      } catch (error) {\n",
              "        console.error('Error during call to suggestCharts:', error);\n",
              "      }\n",
              "      quickchartButtonEl.classList.remove('colab-df-spinner');\n",
              "      quickchartButtonEl.classList.add('colab-df-quickchart-complete');\n",
              "    }\n",
              "    (() => {\n",
              "      let quickchartButtonEl =\n",
              "        document.querySelector('#df-89e73584-0b5a-44d7-89df-85dbc28ed4ec button');\n",
              "      quickchartButtonEl.style.display =\n",
              "        google.colab.kernel.accessAllowed ? 'block' : 'none';\n",
              "    })();\n",
              "  </script>\n",
              "</div>\n",
              "\n",
              "    </div>\n",
              "  </div>\n"
            ],
            "application/vnd.google.colaboratory.intrinsic+json": {
              "type": "dataframe",
              "summary": "{\n  \"name\": \"# - max: \\u6700\\u5927\\u5024\",\n  \"rows\": 8,\n  \"fields\": [\n    {\n      \"column\": \"\\u4f5c\\u696d\\u6642\\u9593\",\n      \"properties\": {\n        \"dtype\": \"number\",\n        \"std\": 38819.066489004465,\n        \"min\": 0.0,\n        \"max\": 110953.0,\n        \"num_unique_values\": 7,\n        \"samples\": [\n          110953.0,\n          39.473687056681655,\n          30.0\n        ],\n        \"semantic_type\": \"\",\n        \"description\": \"\"\n      }\n    },\n    {\n      \"column\": \"\\u5408\\u8a08\\u6642\\u9593\",\n      \"properties\": {\n        \"dtype\": \"number\",\n        \"std\": 38820.62414167145,\n        \"min\": -30.0,\n        \"max\": 110953.0,\n        \"num_unique_values\": 8,\n        \"samples\": [\n          40.32341622128288,\n          9.0,\n          110953.0\n        ],\n        \"semantic_type\": \"\",\n        \"description\": \"\"\n      }\n    }\n  ]\n}"
            }
          },
          "metadata": {},
          "execution_count": 8
        }
      ],
      "source": [
        "# このコードを実行してください（Ctrl + Enter）\n",
        "\n",
        "# actual_trainデータフレームの中で「作業時間」と「合計時間」の2つの列に対して統計的な要約を表示する\n",
        "actual_train[['作業時間', '合計時間']].describe()\n",
        "\n",
        "# 統計的な要約には、以下の情報が含まれる:\n",
        "# - count: データの数（欠損値がないデータの数）\n",
        "# - mean: 平均値\n",
        "# - std: 標準偏差（データの散らばり具合）\n",
        "# - min: 最小値\n",
        "# - 25%: 第一四分位数（データの下位25%の境界）\n",
        "# - 50%: 中央値（データの中央の値）\n",
        "# - 75%: 第三四分位数（データの上位25%の境界）\n",
        "# - max: 最大値"
      ]
    },
    {
      "cell_type": "markdown",
      "metadata": {
        "id": "QalAHq4mfGf0"
      },
      "source": [
        "- 作業時間に0や合計時間に負の値の存在が認められますね。ここからデータを整えていきます。"
      ]
    },
    {
      "cell_type": "markdown",
      "metadata": {
        "id": "dJcXK4odfGf0"
      },
      "source": [
        "- \"作業日\"を日付データに変換し、2020-02-04以降の\"合計時間\"が意味を持つ(付帯作業時間に対応)レコードのみ抽出します。  \n",
        "- また、評価対象となる\"号機名\"はグルアー、2号機、4号機、6号機、7号機、8号機です。それらのレコードのみ抽出します。  \n",
        "- さらに0や負の値などを除外したデータを改めて作成します。.shape は、データフレームや配列の行数と列数を返す属性です。\n",
        "- これを使うと、- データの構造（データセットがどのくらいのサイズか）を簡単に把握することができます。行数と列数を (行数, 列数) の形式で返します。<br><br>\n",
        "  \n",
        "  ⭐️初学者向け解説\n",
        "  ```\n",
        "  不正なデータの除外を行うのは、正確なモデル構築のためです。\n",
        "  作業時間が0や、合計時間が負の値を持つデータは無効なため、これらを除去することで、精度の高いモデル構築が可能になります。\n",
        "  ```"
      ]
    },
    {
      "cell_type": "code",
      "execution_count": 9,
      "metadata": {
        "id": "RHyCO_-yfGf0",
        "colab": {
          "base_uri": "https://localhost:8080/"
        },
        "outputId": "0c603c99-64e0-43f2-ac20-ccb13b91811c"
      },
      "outputs": [
        {
          "output_type": "stream",
          "name": "stdout",
          "text": [
            "(5899, 37)\n"
          ]
        }
      ],
      "source": [
        "# このコードを実行してください（Ctrl + Enter）\n",
        "\n",
        "# '作業日'列を日付形式に変換する（文字列から日付データに変換）\n",
        "actual_train['作業日'] = pd.to_datetime(actual_train['作業日'])\n",
        "\n",
        "# '号機名'が特定の機械（'グルアー', '2号機', '4号機', '6号機', '7号機', '8号機'）に該当する行だけをフィルタリングする\n",
        "actual_filtered = actual_train[actual_train['号機名'].isin(['グルアー','2号機','4号機','6号機','7号機','8号機'])]\n",
        "\n",
        "# '作業日'が2020年2月4日以降のデータだけをフィルタリングする\n",
        "actual_filtered = actual_filtered[actual_filtered['作業日'] >= '2020-02-04']\n",
        "\n",
        "# '作業時間'と '合計時間' の両方が正の値（>0）である行だけをフィルタリングする\n",
        "actual_filtered = actual_filtered[(actual_filtered['作業時間'] > 0) & (actual_filtered['合計時間'] > 0)]\n",
        "\n",
        "# フィルタリング後のデータの行数と列数を表示する\n",
        "print(actual_filtered.shape)"
      ]
    },
    {
      "cell_type": "markdown",
      "metadata": {
        "id": "Nf_Zf09SfGf0"
      },
      "source": [
        "---\n",
        "#####「作業時間」と「合計時間」に関する要約を表示することで、データの基本的な分布や傾向を確認できました。<br>また、特定の条件に絞り、合計時間が正の値であるデータのみを選択することで、分析に適したデータセットが準備できました。\n",
        "---"
      ]
    },
    {
      "cell_type": "markdown",
      "metadata": {
        "id": "W6UVqviofGf0"
      },
      "source": [
        "- まず正味作業時間の分布を確認してみます。"
      ]
    },
    {
      "cell_type": "code",
      "execution_count": 10,
      "metadata": {
        "id": "ap0X3zCDfGf0",
        "colab": {
          "base_uri": "https://localhost:8080/",
          "height": 430
        },
        "outputId": "6f1b44b8-78fb-45e3-ff6a-2663d1e1cec0"
      },
      "outputs": [
        {
          "output_type": "display_data",
          "data": {
            "text/plain": [
              "<Figure size 640x480 with 1 Axes>"
            ],
            "image/png": "[encoded data removed]"
          },
          "metadata": {}
        }
      ],
      "source": [
        "# このコードを実行してください（Ctrl + Enter）\n",
        "\n",
        "# '作業時間'のデータをヒストグラムで可視化する\n",
        "# bins=100は、データを100個の区間（ビン）に分けて表示することを意味する\n",
        "plt.hist(actual_filtered['作業時間'], bins=100)\n",
        "\n",
        "# ヒストグラムを表示する\n",
        "plt.show()"
      ]
    },
    {
      "cell_type": "markdown",
      "metadata": {
        "id": "ksL4yGBHfGf1"
      },
      "source": [
        "- 続いて付帯作業時間の分布を確認してみます。"
      ]
    },
    {
      "cell_type": "code",
      "execution_count": 11,
      "metadata": {
        "id": "jQgA7Ur4fGf1",
        "colab": {
          "base_uri": "https://localhost:8080/",
          "height": 430
        },
        "outputId": "ebb2e4ea-13c8-4c6f-ec23-5ea0c805ebaa"
      },
      "outputs": [
        {
          "output_type": "display_data",
          "data": {
            "text/plain": [
              "<Figure size 640x480 with 1 Axes>"
            ],
            "image/png": "[encoded data removed]"
          },
          "metadata": {}
        }
      ],
      "source": [
        "# このコードを実行してください（Ctrl + Enter）\n",
        "\n",
        "plt.hist(actual_filtered['合計時間'], bins=100)\n",
        "plt.show()"
      ]
    },
    {
      "cell_type": "markdown",
      "metadata": {
        "id": "1QGyjYCMfGf1"
      },
      "source": [
        "- 両者ともに形は似ていて、大きく左に寄っていることが分かります。\n",
        "- 改めて基本統計量も見てみます。"
      ]
    },
    {
      "cell_type": "code",
      "execution_count": 15,
      "metadata": {
        "id": "IVic-ugZfGf1",
        "colab": {
          "base_uri": "https://localhost:8080/",
          "height": 300
        },
        "outputId": "41703a1c-1ea8-43f4-da41-0e076d2c0ae7"
      },
      "outputs": [
        {
          "output_type": "execute_result",
          "data": {
            "text/plain": [
              "              作業時間         合計時間\n",
              "count  5899.000000  5899.000000\n",
              "mean     31.038990    36.175623\n",
              "std      54.915004    35.462492\n",
              "min       1.000000     1.000000\n",
              "25%       6.000000    17.000000\n",
              "50%      13.000000    28.000000\n",
              "75%      30.000000    44.000000\n",
              "max     660.000000   615.000000"
            ],
            "text/html": [
              "\n",
              "  <div id=\"df-57121791-5352-474e-b292-bf7f498e3ca5\" class=\"colab-df-container\">\n",
              "    <div>\n",
              "<style scoped>\n",
              "    .dataframe tbody tr th:only-of-type {\n",
              "        vertical-align: middle;\n",
              "    }\n",
              "\n",
              "    .dataframe tbody tr th {\n",
              "        vertical-align: top;\n",
              "    }\n",
              "\n",
              "    .dataframe thead th {\n",
              "        text-align: right;\n",
              "    }\n",
              "</style>\n",
              "<table border=\"1\" class=\"dataframe\">\n",
              "  <thead>\n",
              "    <tr style=\"text-align: right;\">\n",
              "      <th></th>\n",
              "      <th>作業時間</th>\n",
              "      <th>合計時間</th>\n",
              "    </tr>\n",
              "  </thead>\n",
              "  <tbody>\n",
              "    <tr>\n",
              "      <th>count</th>\n",
              "      <td>5899.000000</td>\n",
              "      <td>5899.000000</td>\n",
              "    </tr>\n",
              "    <tr>\n",
              "      <th>mean</th>\n",
              "      <td>31.038990</td>\n",
              "      <td>36.175623</td>\n",
              "    </tr>\n",
              "    <tr>\n",
              "      <th>std</th>\n",
              "      <td>54.915004</td>\n",
              "      <td>35.462492</td>\n",
              "    </tr>\n",
              "    <tr>\n",
              "      <th>min</th>\n",
              "      <td>1.000000</td>\n",
              "      <td>1.000000</td>\n",
              "    </tr>\n",
              "    <tr>\n",
              "      <th>25%</th>\n",
              "      <td>6.000000</td>\n",
              "      <td>17.000000</td>\n",
              "    </tr>\n",
              "    <tr>\n",
              "      <th>50%</th>\n",
              "      <td>13.000000</td>\n",
              "      <td>28.000000</td>\n",
              "    </tr>\n",
              "    <tr>\n",
              "      <th>75%</th>\n",
              "      <td>30.000000</td>\n",
              "      <td>44.000000</td>\n",
              "    </tr>\n",
              "    <tr>\n",
              "      <th>max</th>\n",
              "      <td>660.000000</td>\n",
              "      <td>615.000000</td>\n",
              "    </tr>\n",
              "  </tbody>\n",
              "</table>\n",
              "</div>\n",
              "    <div class=\"colab-df-buttons\">\n",
              "\n",
              "  <div class=\"colab-df-container\">\n",
              "    <button class=\"colab-df-convert\" onclick=\"convertToInteractive('df-57121791-5352-474e-b292-bf7f498e3ca5')\"\n",
              "            title=\"Convert this dataframe to an interactive table.\"\n",
              "            style=\"display:none;\">\n",
              "\n",
              "  <svg xmlns=\"http://www.w3.org/2000/svg\" height=\"24px\" viewBox=\"0 -960 960 960\">\n",
              "    <path d=\"M120-120v-720h720v720H120Zm60-500h600v-160H180v160Zm220 220h160v-160H400v160Zm0 220h160v-160H400v160ZM180-400h160v-160H180v160Zm440 0h160v-160H620v160ZM180-180h160v-160H180v160Zm440 0h160v-160H620v160Z\"/>\n",
              "  </svg>\n",
              "    </button>\n",
              "\n",
              "  <style>\n",
              "    .colab-df-container {\n",
              "      display:flex;\n",
              "      gap: 12px;\n",
              "    }\n",
              "\n",
              "    .colab-df-convert {\n",
              "      background-color: #E8F0FE;\n",
              "      border: none;\n",
              "      border-radius: 50%;\n",
              "      cursor: pointer;\n",
              "      display: none;\n",
              "      fill: #1967D2;\n",
              "      height: 32px;\n",
              "      padding: 0 0 0 0;\n",
              "      width: 32px;\n",
              "    }\n",
              "\n",
              "    .colab-df-convert:hover {\n",
              "      background-color: #E2EBFA;\n",
              "      box-shadow: 0px 1px 2px rgba(60, 64, 67, 0.3), 0px 1px 3px 1px rgba(60, 64, 67, 0.15);\n",
              "      fill: #174EA6;\n",
              "    }\n",
              "\n",
              "    .colab-df-buttons div {\n",
              "      margin-bottom: 4px;\n",
              "    }\n",
              "\n",
              "    [theme=dark] .colab-df-convert {\n",
              "      background-color: #3B4455;\n",
              "      fill: #D2E3FC;\n",
              "    }\n",
              "\n",
              "    [theme=dark] .colab-df-convert:hover {\n",
              "      background-color: #434B5C;\n",
              "      box-shadow: 0px 1px 3px 1px rgba(0, 0, 0, 0.15);\n",
              "      filter: drop-shadow(0px 1px 2px rgba(0, 0, 0, 0.3));\n",
              "      fill: #FFFFFF;\n",
              "    }\n",
              "  </style>\n",
              "\n",
              "    <script>\n",
              "      const buttonEl =\n",
              "        document.querySelector('#df-57121791-5352-474e-b292-bf7f498e3ca5 button.colab-df-convert');\n",
              "      buttonEl.style.display =\n",
              "        google.colab.kernel.accessAllowed ? 'block' : 'none';\n",
              "\n",
              "      async function convertToInteractive(key) {\n",
              "        const element = document.querySelector('#df-57121791-5352-474e-b292-bf7f498e3ca5');\n",
              "        const dataTable =\n",
              "          await google.colab.kernel.invokeFunction('convertToInteractive',\n",
              "                                                    [key], {});\n",
              "        if (!dataTable) return;\n",
              "\n",
              "        const docLinkHtml = 'Like what you see? Visit the ' +\n",
              "          '<a target=\"_blank\" href=https://colab.research.google.com/notebooks/data_table.ipynb>data table notebook</a>'\n",
              "          + ' to learn more about interactive tables.';\n",
              "        element.innerHTML = '';\n",
              "        dataTable['output_type'] = 'display_data';\n",
              "        await google.colab.output.renderOutput(dataTable, element);\n",
              "        const docLink = document.createElement('div');\n",
              "        docLink.innerHTML = docLinkHtml;\n",
              "        element.appendChild(docLink);\n",
              "      }\n",
              "    </script>\n",
              "  </div>\n",
              "\n",
              "\n",
              "<div id=\"df-2d9f98f1-8f2f-4279-aaba-b62e5a814627\">\n",
              "  <button class=\"colab-df-quickchart\" onclick=\"quickchart('df-2d9f98f1-8f2f-4279-aaba-b62e5a814627')\"\n",
              "            title=\"Suggest charts\"\n",
              "            style=\"display:none;\">\n",
              "\n",
              "<svg xmlns=\"http://www.w3.org/2000/svg\" height=\"24px\"viewBox=\"0 0 24 24\"\n",
              "     width=\"24px\">\n",
              "    <g>\n",
              "        <path d=\"M19 3H5c-1.1 0-2 .9-2 2v14c0 1.1.9 2 2 2h14c1.1 0 2-.9 2-2V5c0-1.1-.9-2-2-2zM9 17H7v-7h2v7zm4 0h-2V7h2v10zm4 0h-2v-4h2v4z\"/>\n",
              "    </g>\n",
              "</svg>\n",
              "  </button>\n",
              "\n",
              "<style>\n",
              "  .colab-df-quickchart {\n",
              "      --bg-color: #E8F0FE;\n",
              "      --fill-color: #1967D2;\n",
              "      --hover-bg-color: #E2EBFA;\n",
              "      --hover-fill-color: #174EA6;\n",
              "      --disabled-fill-color: #AAA;\n",
              "      --disabled-bg-color: #DDD;\n",
              "  }\n",
              "\n",
              "  [theme=dark] .colab-df-quickchart {\n",
              "      --bg-color: #3B4455;\n",
              "      --fill-color: #D2E3FC;\n",
              "      --hover-bg-color: #434B5C;\n",
              "      --hover-fill-color: #FFFFFF;\n",
              "      --disabled-bg-color: #3B4455;\n",
              "      --disabled-fill-color: #666;\n",
              "  }\n",
              "\n",
              "  .colab-df-quickchart {\n",
              "    background-color: var(--bg-color);\n",
              "    border: none;\n",
              "    border-radius: 50%;\n",
              "    cursor: pointer;\n",
              "    display: none;\n",
              "    fill: var(--fill-color);\n",
              "    height: 32px;\n",
              "    padding: 0;\n",
              "    width: 32px;\n",
              "  }\n",
              "\n",
              "  .colab-df-quickchart:hover {\n",
              "    background-color: var(--hover-bg-color);\n",
              "    box-shadow: 0 1px 2px rgba(60, 64, 67, 0.3), 0 1px 3px 1px rgba(60, 64, 67, 0.15);\n",
              "    fill: var(--button-hover-fill-color);\n",
              "  }\n",
              "\n",
              "  .colab-df-quickchart-complete:disabled,\n",
              "  .colab-df-quickchart-complete:disabled:hover {\n",
              "    background-color: var(--disabled-bg-color);\n",
              "    fill: var(--disabled-fill-color);\n",
              "    box-shadow: none;\n",
              "  }\n",
              "\n",
              "  .colab-df-spinner {\n",
              "    border: 2px solid var(--fill-color);\n",
              "    border-color: transparent;\n",
              "    border-bottom-color: var(--fill-color);\n",
              "    animation:\n",
              "      spin 1s steps(1) infinite;\n",
              "  }\n",
              "\n",
              "  @keyframes spin {\n",
              "    0% {\n",
              "      border-color: transparent;\n",
              "      border-bottom-color: var(--fill-color);\n",
              "      border-left-color: var(--fill-color);\n",
              "    }\n",
              "    20% {\n",
              "      border-color: transparent;\n",
              "      border-left-color: var(--fill-color);\n",
              "      border-top-color: var(--fill-color);\n",
              "    }\n",
              "    30% {\n",
              "      border-color: transparent;\n",
              "      border-left-color: var(--fill-color);\n",
              "      border-top-color: var(--fill-color);\n",
              "      border-right-color: var(--fill-color);\n",
              "    }\n",
              "    40% {\n",
              "      border-color: transparent;\n",
              "      border-right-color: var(--fill-color);\n",
              "      border-top-color: var(--fill-color);\n",
              "    }\n",
              "    60% {\n",
              "      border-color: transparent;\n",
              "      border-right-color: var(--fill-color);\n",
              "    }\n",
              "    80% {\n",
              "      border-color: transparent;\n",
              "      border-right-color: var(--fill-color);\n",
              "      border-bottom-color: var(--fill-color);\n",
              "    }\n",
              "    90% {\n",
              "      border-color: transparent;\n",
              "      border-bottom-color: var(--fill-color);\n",
              "    }\n",
              "  }\n",
              "</style>\n",
              "\n",
              "  <script>\n",
              "    async function quickchart(key) {\n",
              "      const quickchartButtonEl =\n",
              "        document.querySelector('#' + key + ' button');\n",
              "      quickchartButtonEl.disabled = true;  // To prevent multiple clicks.\n",
              "      quickchartButtonEl.classList.add('colab-df-spinner');\n",
              "      try {\n",
              "        const charts = await google.colab.kernel.invokeFunction(\n",
              "            'suggestCharts', [key], {});\n",
              "      } catch (error) {\n",
              "        console.error('Error during call to suggestCharts:', error);\n",
              "      }\n",
              "      quickchartButtonEl.classList.remove('colab-df-spinner');\n",
              "      quickchartButtonEl.classList.add('colab-df-quickchart-complete');\n",
              "    }\n",
              "    (() => {\n",
              "      let quickchartButtonEl =\n",
              "        document.querySelector('#df-2d9f98f1-8f2f-4279-aaba-b62e5a814627 button');\n",
              "      quickchartButtonEl.style.display =\n",
              "        google.colab.kernel.accessAllowed ? 'block' : 'none';\n",
              "    })();\n",
              "  </script>\n",
              "</div>\n",
              "\n",
              "    </div>\n",
              "  </div>\n"
            ],
            "application/vnd.google.colaboratory.intrinsic+json": {
              "type": "dataframe",
              "summary": "{\n  \"name\": \"actual_filtered[['\\u4f5c\\u696d\\u6642\\u9593','\\u5408\\u8a08\\u6642\\u9593']]\",\n  \"rows\": 8,\n  \"fields\": [\n    {\n      \"column\": \"\\u4f5c\\u696d\\u6642\\u9593\",\n      \"properties\": {\n        \"dtype\": \"number\",\n        \"std\": 2057.6021048812436,\n        \"min\": 1.0,\n        \"max\": 5899.0,\n        \"num_unique_values\": 8,\n        \"samples\": [\n          31.03898965926428,\n          13.0,\n          5899.0\n        ],\n        \"semantic_type\": \"\",\n        \"description\": \"\"\n      }\n    },\n    {\n      \"column\": \"\\u5408\\u8a08\\u6642\\u9593\",\n      \"properties\": {\n        \"dtype\": \"number\",\n        \"std\": 2056.7479265519983,\n        \"min\": 1.0,\n        \"max\": 5899.0,\n        \"num_unique_values\": 8,\n        \"samples\": [\n          36.17562298694694,\n          28.0,\n          5899.0\n        ],\n        \"semantic_type\": \"\",\n        \"description\": \"\"\n      }\n    }\n  ]\n}"
            }
          },
          "metadata": {},
          "execution_count": 15
        }
      ],
      "source": [
        "# このコードを実行してください（Ctrl + Enter）\n",
        "\n",
        "# フィルターをかけたactual_trainデータフレームの中で\n",
        "# もう一度「作業時間」と「合計時間」の2つの列に対して統計的な要約を表示する\n",
        "actual_filtered[['作業時間','合計時間']].describe()"
      ]
    },
    {
      "cell_type": "markdown",
      "metadata": {
        "id": "CqFPGwNHfGf1"
      },
      "source": [
        "- 付帯作業時間（合計時間）のほうが比較的長い傾向にあるようです。もう少しデータをフィルタリングしたらまた違った性質が見えてくるかもしれません。\n",
        "- 色々なフィルタリングの仕方を考え、データを眺めてみましょう。<br><br>\n",
        "  \n",
        "  ⭐️初学者向け解説\n",
        "  ```\n",
        "  この作業の目的は、データの傾向や特徴をより詳しく理解するためです。ここでは、具体的に次の点が重要です。\n",
        "\n",
        "  ・付帯作業時間が長い理由の確認\n",
        "  データをフィルタリングすることで、付帯作業時間が長くなる特定の条件やパターンを見つけ出し、その背後にある原因を明らかにします。\n",
        "\n",
        "  ・異なるフィルタリング方法でデータの新しい側面を発見\n",
        "  データをいろいろな方法で絞り込むことで、データの異なる特徴や性質が見えてくる可能性があります。たとえば、特定の期間や条件でフィルタリングすることで、新しい傾向や相関関係が発見できるかもしれません。\n",
        "\n",
        "  ・予測精度向上のためのデータ探索\n",
        "  モデルの予測精度を上げるために、適切なデータを見極めることが重要です。フィルタリングを通じて、無駄なデータを取り除き、より予測に役立つデータを絞り込むことができます。\n",
        "\n",
        "  このように、様々な方法でデータをフィルタリングしながら確認することで、より正確な予測モデル構築に向けた深い洞察を得ることが目的です。\n",
        "  ```"
      ]
    },
    {
      "cell_type": "markdown",
      "source": [
        "---\n",
        "#####「作業時間」と「合計時間」のデータをヒストグラムで可視化することで、両者の分布状況を確認できました。<br>また、フィルタリングされたデータに対して統計的な要約を再表示することで、データの特徴を数値として再確認しました。<br>これにより、データの偏りや傾向を把握することができました。<br>次のセクションに進みましょう。\n",
        "---"
      ],
      "metadata": {
        "id": "CRyPvD-Be_pZ"
      }
    },
    {
      "cell_type": "markdown",
      "metadata": {
        "id": "kjaDVsiPfGf1"
      },
      "source": [
        "## 2. モデリング\n",
        "- 続いて、正味作業時間と付帯作業時間を予測するモデルを構築します。"
      ]
    },
    {
      "cell_type": "markdown",
      "metadata": {
        "id": "0r6QSjTlfGf1"
      },
      "source": [
        "### 2-1.学習データの作成\n",
        " - まずはモデルに学習させるデータを作成します。説明変数としては直接作業に影響があると思われる加工データの\"数量1\"を用いることにします。  \n",
        " - まず、目的変数と説明変数が並ぶように加工データと実績データを統合します。キーは\"受注番号\"と\"号機名\"です。  \n",
        " - また、\"合計時間\"が意味を持つレコードに絞り、関係する変数のみ抜き出します。"
      ]
    },
    {
      "cell_type": "markdown",
      "metadata": {
        "id": "0ijZu5BUfGf1"
      },
      "source": [
        "  ⭐️初学者向け解説\n",
        "  ```\n",
        "  このセクションでの大事なポイントは下記の通りです。\n",
        "\n",
        "  ・説明変数と目的変数\n",
        "  説明変数は、モデルに入力するデータで、予測に使う情報です。\n",
        "  目的変数は、モデルが予測する対象です。\n",
        "  例えば、「気温が高いとアイスクリームの売上が増える傾向がある」という仮説に基づいてモデルを構築する場合、\n",
        "  「気温」が説明変数で、「アイスクリームの売上」が目的変数となります。\n",
        "\n",
        " ・説明変数の列と目的変数の列を結合する\n",
        "  モデルに学習させるために、説明変数（「数量1」など）と目的変数（「合計時間」）を一緒に並んでいないと、学習させることができないためです。\n",
        "\n",
        "  ・キーによる統合\n",
        "  「受注番号」と「号機名」という共通のカラム（列）を使って、加工データと実績データを結びつけます。\n",
        "  これにより、正しい情報が組み合わさり、分析がしやすくなります。\n",
        "\n",
        "  ・有効なレコードの選別（フィルタリング）\n",
        "  「合計時間」が有効なデータだけを選びます。\n",
        "  これにより、無関係なデータを除外し、正確な分析ができます。\n",
        "  ```"
      ]
    },
    {
      "cell_type": "code",
      "execution_count": 16,
      "metadata": {
        "id": "OVLWXLyvfGf1"
      },
      "outputs": [],
      "source": [
        "# このコードを実行してください（Ctrl + Enter）\n",
        "\n",
        "# processing_trainとactual_trainのデータフレームを特定のキー（'受注番号'と'号機名'）に基づいて結合する\n",
        "# これにより、共通の'受注番号'と'号機名'を持つ行が統合される\n",
        "train_merged = pd.merge(processing_train, actual_train, on=['受注番号', '号機名'])\n",
        "\n",
        "# 結合したデータの中から、'作業日'が2020年2月4日以降のデータだけをフィルタリングする\n",
        "train_merged = train_merged[train_merged['作業日'] >= '2020-02-04']\n",
        "\n",
        "# 必要な列（'受注番号', '号機名', '作業日', '数量1', '作業時間', '合計時間'）だけを抽出して、新しいデータフレームを作成する\n",
        "train_data = train_merged[['受注番号', '号機名', '作業日', '数量1', '作業時間', '合計時間']]"
      ]
    },
    {
      "cell_type": "markdown",
      "metadata": {
        "id": "6yU_N9VEfGf2"
      },
      "source": [
        " - 評価対象となる\"号機名\"はグルアー、2号機、4号機、6号機、7号機、8号機なので、\"号機名\"はそれらに絞ります。\"作業時間\"や\"合計時間\"が0や負のレコードも除外します。"
      ]
    },
    {
      "cell_type": "code",
      "execution_count": 17,
      "metadata": {
        "id": "r0KrwH-FfGf2",
        "colab": {
          "base_uri": "https://localhost:8080/"
        },
        "outputId": "191c380a-07aa-4821-ff2e-a3db3a299e28"
      },
      "outputs": [
        {
          "output_type": "stream",
          "name": "stdout",
          "text": [
            "<class 'pandas.core.frame.DataFrame'>\n",
            "Index: 5276 entries, 58 to 22086\n",
            "Data columns (total 6 columns):\n",
            " #   Column  Non-Null Count  Dtype         \n",
            "---  ------  --------------  -----         \n",
            " 0   受注番号    5276 non-null   object        \n",
            " 1   号機名     5276 non-null   object        \n",
            " 2   作業日     5276 non-null   datetime64[ns]\n",
            " 3   数量1     5276 non-null   object        \n",
            " 4   作業時間    5276 non-null   int64         \n",
            " 5   合計時間    5276 non-null   int64         \n",
            "dtypes: datetime64[ns](1), int64(2), object(3)\n",
            "memory usage: 288.5+ KB\n"
          ]
        }
      ],
      "source": [
        "# このコードを実行してください（Ctrl + Enter）\n",
        "\n",
        "# '号機名'が特定の機械（'グルアー', '2号機', '4号機', '6号機', '7号機', '8号機'）に該当する行だけをフィルタリングする\n",
        "train_data = train_data[train_data['号機名'].isin(['グルアー','2号機','4号機','6号機','7号機','8号機'])]\n",
        "\n",
        "# '作業時間'と '合計時間' の両方が正の値（>0）である行だけをフィルタリングする\n",
        "train_data = train_data[(train_data['作業時間'] > 0) & (train_data['合計時間'] > 0)]\n",
        "\n",
        "# フィルタリング後のデータフレームの概要を表示する\n",
        "# データの列名、データ型、非欠損値の数、メモリ使用量などが確認できる\n",
        "train_data.info()"
      ]
    },
    {
      "cell_type": "markdown",
      "metadata": {
        "id": "Splgdgg6fGf2"
      },
      "source": [
        "- モデルに学習させるデータは数値である必要があります。  \n",
        "\"数量1\"には文字列が含まれる(Dtypeがobjectとなっている)ようなので、全て数値データに変換します。\n",
        "\n",
        "- モデリングを行う際は、データ型を正しい形に修正することがとても大事です。\n",
        "- astype() 関数は、Pandasで使用されるメソッドで、データフレームやシリーズ内のデータ型を別の型に変換するために使用されます。\n",
        "- これにより、列のデータ型を整数、浮動小数点数、文字列、ブール型などに変換することができます。<br><br>\n",
        "  \n",
        "  ⭐️初学者向け解説\n",
        "  ```\n",
        "  ここでは、頻出のデータ型について理解しておきましょう。\n",
        "  データ型は、プログラムで扱うデータの種類や性質を示します。異なるデータ型には、それぞれ異なる特性や操作方法があります。主要なデータ型には以下のようなものがあります。\n",
        "\n",
        "  ・整数\n",
        "  小数点を持たない数値です。例えば、-3、0、7などが整数です。プログラムでは、カウントや順序など、精確な数値が必要なときに使います。\n",
        "\n",
        "  ・浮動小数点数\n",
        "  浮動小数点数は、小数点を含む数値です。\n",
        "  例えば、3.14、-0.001、2.71828などが浮動小数点数です。計算の精度が重要な場合などに使用されます。\n",
        "\n",
        "  ・文字列\n",
        "  文字の並びで構成されたデータ型です。例えば、「Hello, World!」などが文字列です。\n",
        "  テキストデータや情報を表現するために使います。\n",
        "\n",
        "  ・ブール型\n",
        "  真偽値を表すデータ型で、True（真）またはFalse（偽）の2つの値しか取れません。\n",
        "  条件分岐などでよく使用され、データが特定の条件を満たすかどうかを判断します。\n",
        "  ```"
      ]
    },
    {
      "cell_type": "code",
      "execution_count": 18,
      "metadata": {
        "id": "EU_zXi66fGf2",
        "colab": {
          "base_uri": "https://localhost:8080/"
        },
        "outputId": "b1990e85-7c4a-44f5-edeb-cec5bd24267a"
      },
      "outputs": [
        {
          "output_type": "stream",
          "name": "stdout",
          "text": [
            "<class 'pandas.core.frame.DataFrame'>\n",
            "Index: 5276 entries, 58 to 22086\n",
            "Data columns (total 6 columns):\n",
            " #   Column  Non-Null Count  Dtype         \n",
            "---  ------  --------------  -----         \n",
            " 0   受注番号    5276 non-null   object        \n",
            " 1   号機名     5276 non-null   object        \n",
            " 2   作業日     5276 non-null   datetime64[ns]\n",
            " 3   数量1     5276 non-null   float64       \n",
            " 4   作業時間    5276 non-null   int64         \n",
            " 5   合計時間    5276 non-null   int64         \n",
            "dtypes: datetime64[ns](1), float64(1), int64(2), object(2)\n",
            "memory usage: 288.5+ KB\n"
          ]
        }
      ],
      "source": [
        "# このコードを実行してください（Ctrl + Enter）\n",
        "\n",
        "# '数量1'列のデータ型を浮動小数点数（float）に変換する\n",
        "# これにより、文字列ではなく、小数点を含む数値として扱えるようになる\n",
        "train_data['数量1'] = train_data['数量1'].astype(float)\n",
        "\n",
        "# 変更後のデータフレームの概要を表示する\n",
        "# データ型が正しく変換されたか、他の基本情報（列名、非欠損値の数など）も確認できる\n",
        "train_data.info()"
      ]
    },
    {
      "cell_type": "markdown",
      "source": [
        "---\n",
        "#####「受注番号」と「号機名」に基づいてデータを結合し、共通の情報を統合し必要なデータをフィルタリングしました。<br>さらに「数量1」のデータを数値のデータ型に変換しました。<br>これによりデータの統合とクリーニングが完了し、モデルの学習に進む準備が整いました。<br>次のセクションに進みましょう。\n",
        "---"
      ],
      "metadata": {
        "id": "EAXkcIKjfIEK"
      }
    },
    {
      "cell_type": "markdown",
      "metadata": {
        "id": "aMqBLHsjfGf2"
      },
      "source": [
        "### 2-2.モデルの学習"
      ]
    },
    {
      "cell_type": "markdown",
      "metadata": {
        "id": "E7p9Wds7fGf2"
      },
      "source": [
        "- 作成した学習データで説明変数が\"数量1\"で目的変数が正味作業時間と付帯作業時間となるようなモデルを学習させます。今回は線形回帰モデルを用います。<br><br>\n",
        "  \n",
        "  ⭐️初学者向け解説\n",
        "  ```\n",
        "  ・線形回帰モデルとは\n",
        "  線形回帰モデルは、データの説明変数と目的変数の関係を直線で表現する手法です。\n",
        "  説明変数と目的変数の間に線形の関係があると仮定し、その関係を使って予測を行います。\n",
        "  例えば、「気温が高いとアイスクリームの売上が増える傾向がある」という仮説に基づいてモデルを構築する場合、\n",
        "  「気温」が説明変数で、「アイスクリームの売上」が目的変数となります。\n",
        "\n",
        "  ・線形回帰モデルのメリット\n",
        "  シンプルさ: 線形回帰は最も基本的でシンプルなモデルです。実装や解釈が簡単です。\n",
        "  解釈しやすさ: モデルの係数が説明変数と目的変数の関係を直線で示すため、結果の解釈が容易です。\n",
        "  計算効率: 計算が比較的軽量であり、データが大規模でもスムーズに動作します。\n",
        "  ```"
      ]
    },
    {
      "cell_type": "code",
      "execution_count": 19,
      "metadata": {
        "id": "cmD_QJLQfGf2"
      },
      "outputs": [],
      "source": [
        "# このコードを実行してください（Ctrl + Enter）\n",
        "\n",
        "# 機械学習モデルを構築するためのscikit-learnライブラリの線形回帰モデルをインポートする\n",
        "from sklearn import linear_model\n",
        "\n",
        "# 線形回帰モデルを使うための準備をする\n",
        "# ここで、線形回帰というモデルを「regr」という名前で使えるように設定する\n",
        "# この「regr」を使ってデータに基づいた予測を行うことができるようになる\n",
        "regr = linear_model.LinearRegression()"
      ]
    },
    {
      "cell_type": "code",
      "source": [
        "# このコードを実行してください（Ctrl + Enter）\n",
        "\n",
        "#linear_model には、線形回帰を含む多くの線形モデルの実装が含まれています。\n",
        "from sklearn import linear_model\n",
        "\n",
        "#ここで LinearRegression クラスを呼び出して、regr という変数に線形回帰モデルを作成しています。\n",
        "#この regr という変数が、線形回帰モデルを使ったトレーニングや予測に使われます。\n",
        "#regr は regression（回帰）の短縮形として使われているだけで、変数名に特に決まりはありません。これは一般的にコードを書いている人がわかりやすいように任意で付けている名前です。\n",
        "regr = linear_model.LinearRegression()"
      ],
      "metadata": {
        "id": "4G9Ws2WHRDOh"
      },
      "execution_count": 20,
      "outputs": []
    },
    {
      "cell_type": "markdown",
      "metadata": {
        "id": "4W7vfgKSfGf2"
      },
      "source": [
        "- 学習データから改めて学習用と検証用のデータを作成します。  \n",
        "- \"作業日\"が2020-06-01以前を学習用、以降を検証用とします<br><br>\n",
        "  \n",
        "  ⭐️初学者向け解説\n",
        "  ```\n",
        "  学習用データ（モデルを訓練するためのデータ）と検証用データ（訓練されたモデルの性能を評価し、調整するためのデータ）を分けることで、モデルの性能を評価し、過学習を防ぐためです。\n",
        "  具体的には以下の目的があります。\n",
        "\n",
        "  ・モデルの評価:\n",
        "  学習用データでモデルを訓練し、検証用データでその性能を評価します。\n",
        "  これにより、モデルが新しいデータに対してどれだけ正確に予測できるかを確認します。\n",
        "  \n",
        "  ・過学習の防止:\n",
        "  モデルが学習データに過度に適合しすぎると、検証用データでの性能が低下します。\n",
        "  例えば、試験問題対策でたくさんの問題集を解いた結果、問題集に出てくる問題の解答は完璧にできるようになったが、試験で出る新しい問題には全く答えられない、という状況が過学習です。\n",
        "  データを分割することで、モデルが過学習するリスクを軽減します。\n",
        "  \n",
        "  ・一般化能力の確認:\n",
        "  学習用データだけでなく、未見のデータ（検証用データ）でのパフォーマンスを確認することで、モデルが一般的なデータに対しても適切に予測できるかを評価します。\n",
        "  ```"
      ]
    },
    {
      "cell_type": "code",
      "execution_count": 21,
      "metadata": {
        "id": "4g9hJ7hHfGf2"
      },
      "outputs": [],
      "source": [
        "# このコードを実行してください（Ctrl + Enter）\n",
        "\n",
        "# '作業日'が2020年6月1日より前のデータを学習用データ（train_all）として抽出する\n",
        "train_all = train_data[train_data['作業日'] < '2020-06-01']\n",
        "\n",
        "# '作業日'が2020年6月1日以降のデータを検証用データ（val_all）として抽出する\n",
        "val_all = train_data[train_data['作業日'] >= '2020-06-01']"
      ]
    },
    {
      "cell_type": "markdown",
      "metadata": {
        "id": "6TJwmOzRfGf2"
      },
      "source": [
        "- 学習用でモデルを学習させます。"
      ]
    },
    {
      "cell_type": "code",
      "execution_count": 22,
      "metadata": {
        "id": "nBMB63bIfGf3",
        "colab": {
          "base_uri": "https://localhost:8080/",
          "height": 80
        },
        "outputId": "ff70cd54-38ed-49c8-9c15-7ba3b2504ea7"
      },
      "outputs": [
        {
          "output_type": "execute_result",
          "data": {
            "text/plain": [
              "LinearRegression()"
            ],
            "text/html": [
              "<style>#sk-container-id-1 {\n",
              "  /* Definition of color scheme common for light and dark mode */\n",
              "  --sklearn-color-text: black;\n",
              "  --sklearn-color-line: gray;\n",
              "  /* Definition of color scheme for unfitted estimators */\n",
              "  --sklearn-color-unfitted-level-0: #fff5e6;\n",
              "  --sklearn-color-unfitted-level-1: #f6e4d2;\n",
              "  --sklearn-color-unfitted-level-2: #ffe0b3;\n",
              "  --sklearn-color-unfitted-level-3: chocolate;\n",
              "  /* Definition of color scheme for fitted estimators */\n",
              "  --sklearn-color-fitted-level-0: #f0f8ff;\n",
              "  --sklearn-color-fitted-level-1: #d4ebff;\n",
              "  --sklearn-color-fitted-level-2: #b3dbfd;\n",
              "  --sklearn-color-fitted-level-3: cornflowerblue;\n",
              "\n",
              "  /* Specific color for light theme */\n",
              "  --sklearn-color-text-on-default-background: var(--sg-text-color, var(--theme-code-foreground, var(--jp-content-font-color1, black)));\n",
              "  --sklearn-color-background: var(--sg-background-color, var(--theme-background, var(--jp-layout-color0, white)));\n",
              "  --sklearn-color-border-box: var(--sg-text-color, var(--theme-code-foreground, var(--jp-content-font-color1, black)));\n",
              "  --sklearn-color-icon: #696969;\n",
              "\n",
              "  @media (prefers-color-scheme: dark) {\n",
              "    /* Redefinition of color scheme for dark theme */\n",
              "    --sklearn-color-text-on-default-background: var(--sg-text-color, var(--theme-code-foreground, var(--jp-content-font-color1, white)));\n",
              "    --sklearn-color-background: var(--sg-background-color, var(--theme-background, var(--jp-layout-color0, #111)));\n",
              "    --sklearn-color-border-box: var(--sg-text-color, var(--theme-code-foreground, var(--jp-content-font-color1, white)));\n",
              "    --sklearn-color-icon: #878787;\n",
              "  }\n",
              "}\n",
              "\n",
              "#sk-container-id-1 {\n",
              "  color: var(--sklearn-color-text);\n",
              "}\n",
              "\n",
              "#sk-container-id-1 pre {\n",
              "  padding: 0;\n",
              "}\n",
              "\n",
              "#sk-container-id-1 input.sk-hidden--visually {\n",
              "  border: 0;\n",
              "  clip: rect(1px 1px 1px 1px);\n",
              "  clip: rect(1px, 1px, 1px, 1px);\n",
              "  height: 1px;\n",
              "  margin: -1px;\n",
              "  overflow: hidden;\n",
              "  padding: 0;\n",
              "  position: absolute;\n",
              "  width: 1px;\n",
              "}\n",
              "\n",
              "#sk-container-id-1 div.sk-dashed-wrapped {\n",
              "  border: 1px dashed var(--sklearn-color-line);\n",
              "  margin: 0 0.4em 0.5em 0.4em;\n",
              "  box-sizing: border-box;\n",
              "  padding-bottom: 0.4em;\n",
              "  background-color: var(--sklearn-color-background);\n",
              "}\n",
              "\n",
              "#sk-container-id-1 div.sk-container {\n",
              "  /* jupyter's `normalize.less` sets `[hidden] { display: none; }`\n",
              "     but bootstrap.min.css set `[hidden] { display: none !important; }`\n",
              "     so we also need the `!important` here to be able to override the\n",
              "     default hidden behavior on the sphinx rendered scikit-learn.org.\n",
              "     See: https://github.com/scikit-learn/scikit-learn/issues/21755 */\n",
              "  display: inline-block !important;\n",
              "  position: relative;\n",
              "}\n",
              "\n",
              "#sk-container-id-1 div.sk-text-repr-fallback {\n",
              "  display: none;\n",
              "}\n",
              "\n",
              "div.sk-parallel-item,\n",
              "div.sk-serial,\n",
              "div.sk-item {\n",
              "  /* draw centered vertical line to link estimators */\n",
              "  background-image: linear-gradient(var(--sklearn-color-text-on-default-background), var(--sklearn-color-text-on-default-background));\n",
              "  background-size: 2px 100%;\n",
              "  background-repeat: no-repeat;\n",
              "  background-position: center center;\n",
              "}\n",
              "\n",
              "/* Parallel-specific style estimator block */\n",
              "\n",
              "#sk-container-id-1 div.sk-parallel-item::after {\n",
              "  content: \"\";\n",
              "  width: 100%;\n",
              "  border-bottom: 2px solid var(--sklearn-color-text-on-default-background);\n",
              "  flex-grow: 1;\n",
              "}\n",
              "\n",
              "#sk-container-id-1 div.sk-parallel {\n",
              "  display: flex;\n",
              "  align-items: stretch;\n",
              "  justify-content: center;\n",
              "  background-color: var(--sklearn-color-background);\n",
              "  position: relative;\n",
              "}\n",
              "\n",
              "#sk-container-id-1 div.sk-parallel-item {\n",
              "  display: flex;\n",
              "  flex-direction: column;\n",
              "}\n",
              "\n",
              "#sk-container-id-1 div.sk-parallel-item:first-child::after {\n",
              "  align-self: flex-end;\n",
              "  width: 50%;\n",
              "}\n",
              "\n",
              "#sk-container-id-1 div.sk-parallel-item:last-child::after {\n",
              "  align-self: flex-start;\n",
              "  width: 50%;\n",
              "}\n",
              "\n",
              "#sk-container-id-1 div.sk-parallel-item:only-child::after {\n",
              "  width: 0;\n",
              "}\n",
              "\n",
              "/* Serial-specific style estimator block */\n",
              "\n",
              "#sk-container-id-1 div.sk-serial {\n",
              "  display: flex;\n",
              "  flex-direction: column;\n",
              "  align-items: center;\n",
              "  background-color: var(--sklearn-color-background);\n",
              "  padding-right: 1em;\n",
              "  padding-left: 1em;\n",
              "}\n",
              "\n",
              "\n",
              "/* Toggleable style: style used for estimator/Pipeline/ColumnTransformer box that is\n",
              "clickable and can be expanded/collapsed.\n",
              "- Pipeline and ColumnTransformer use this feature and define the default style\n",
              "- Estimators will overwrite some part of the style using the `sk-estimator` class\n",
              "*/\n",
              "\n",
              "/* Pipeline and ColumnTransformer style (default) */\n",
              "\n",
              "#sk-container-id-1 div.sk-toggleable {\n",
              "  /* Default theme specific background. It is overwritten whether we have a\n",
              "  specific estimator or a Pipeline/ColumnTransformer */\n",
              "  background-color: var(--sklearn-color-background);\n",
              "}\n",
              "\n",
              "/* Toggleable label */\n",
              "#sk-container-id-1 label.sk-toggleable__label {\n",
              "  cursor: pointer;\n",
              "  display: block;\n",
              "  width: 100%;\n",
              "  margin-bottom: 0;\n",
              "  padding: 0.5em;\n",
              "  box-sizing: border-box;\n",
              "  text-align: center;\n",
              "}\n",
              "\n",
              "#sk-container-id-1 label.sk-toggleable__label-arrow:before {\n",
              "  /* Arrow on the left of the label */\n",
              "  content: \"▸\";\n",
              "  float: left;\n",
              "  margin-right: 0.25em;\n",
              "  color: var(--sklearn-color-icon);\n",
              "}\n",
              "\n",
              "#sk-container-id-1 label.sk-toggleable__label-arrow:hover:before {\n",
              "  color: var(--sklearn-color-text);\n",
              "}\n",
              "\n",
              "/* Toggleable content - dropdown */\n",
              "\n",
              "#sk-container-id-1 div.sk-toggleable__content {\n",
              "  max-height: 0;\n",
              "  max-width: 0;\n",
              "  overflow: hidden;\n",
              "  text-align: left;\n",
              "  /* unfitted */\n",
              "  background-color: var(--sklearn-color-unfitted-level-0);\n",
              "}\n",
              "\n",
              "#sk-container-id-1 div.sk-toggleable__content.fitted {\n",
              "  /* fitted */\n",
              "  background-color: var(--sklearn-color-fitted-level-0);\n",
              "}\n",
              "\n",
              "#sk-container-id-1 div.sk-toggleable__content pre {\n",
              "  margin: 0.2em;\n",
              "  border-radius: 0.25em;\n",
              "  color: var(--sklearn-color-text);\n",
              "  /* unfitted */\n",
              "  background-color: var(--sklearn-color-unfitted-level-0);\n",
              "}\n",
              "\n",
              "#sk-container-id-1 div.sk-toggleable__content.fitted pre {\n",
              "  /* unfitted */\n",
              "  background-color: var(--sklearn-color-fitted-level-0);\n",
              "}\n",
              "\n",
              "#sk-container-id-1 input.sk-toggleable__control:checked~div.sk-toggleable__content {\n",
              "  /* Expand drop-down */\n",
              "  max-height: 200px;\n",
              "  max-width: 100%;\n",
              "  overflow: auto;\n",
              "}\n",
              "\n",
              "#sk-container-id-1 input.sk-toggleable__control:checked~label.sk-toggleable__label-arrow:before {\n",
              "  content: \"▾\";\n",
              "}\n",
              "\n",
              "/* Pipeline/ColumnTransformer-specific style */\n",
              "\n",
              "#sk-container-id-1 div.sk-label input.sk-toggleable__control:checked~label.sk-toggleable__label {\n",
              "  color: var(--sklearn-color-text);\n",
              "  background-color: var(--sklearn-color-unfitted-level-2);\n",
              "}\n",
              "\n",
              "#sk-container-id-1 div.sk-label.fitted input.sk-toggleable__control:checked~label.sk-toggleable__label {\n",
              "  background-color: var(--sklearn-color-fitted-level-2);\n",
              "}\n",
              "\n",
              "/* Estimator-specific style */\n",
              "\n",
              "/* Colorize estimator box */\n",
              "#sk-container-id-1 div.sk-estimator input.sk-toggleable__control:checked~label.sk-toggleable__label {\n",
              "  /* unfitted */\n",
              "  background-color: var(--sklearn-color-unfitted-level-2);\n",
              "}\n",
              "\n",
              "#sk-container-id-1 div.sk-estimator.fitted input.sk-toggleable__control:checked~label.sk-toggleable__label {\n",
              "  /* fitted */\n",
              "  background-color: var(--sklearn-color-fitted-level-2);\n",
              "}\n",
              "\n",
              "#sk-container-id-1 div.sk-label label.sk-toggleable__label,\n",
              "#sk-container-id-1 div.sk-label label {\n",
              "  /* The background is the default theme color */\n",
              "  color: var(--sklearn-color-text-on-default-background);\n",
              "}\n",
              "\n",
              "/* On hover, darken the color of the background */\n",
              "#sk-container-id-1 div.sk-label:hover label.sk-toggleable__label {\n",
              "  color: var(--sklearn-color-text);\n",
              "  background-color: var(--sklearn-color-unfitted-level-2);\n",
              "}\n",
              "\n",
              "/* Label box, darken color on hover, fitted */\n",
              "#sk-container-id-1 div.sk-label.fitted:hover label.sk-toggleable__label.fitted {\n",
              "  color: var(--sklearn-color-text);\n",
              "  background-color: var(--sklearn-color-fitted-level-2);\n",
              "}\n",
              "\n",
              "/* Estimator label */\n",
              "\n",
              "#sk-container-id-1 div.sk-label label {\n",
              "  font-family: monospace;\n",
              "  font-weight: bold;\n",
              "  display: inline-block;\n",
              "  line-height: 1.2em;\n",
              "}\n",
              "\n",
              "#sk-container-id-1 div.sk-label-container {\n",
              "  text-align: center;\n",
              "}\n",
              "\n",
              "/* Estimator-specific */\n",
              "#sk-container-id-1 div.sk-estimator {\n",
              "  font-family: monospace;\n",
              "  border: 1px dotted var(--sklearn-color-border-box);\n",
              "  border-radius: 0.25em;\n",
              "  box-sizing: border-box;\n",
              "  margin-bottom: 0.5em;\n",
              "  /* unfitted */\n",
              "  background-color: var(--sklearn-color-unfitted-level-0);\n",
              "}\n",
              "\n",
              "#sk-container-id-1 div.sk-estimator.fitted {\n",
              "  /* fitted */\n",
              "  background-color: var(--sklearn-color-fitted-level-0);\n",
              "}\n",
              "\n",
              "/* on hover */\n",
              "#sk-container-id-1 div.sk-estimator:hover {\n",
              "  /* unfitted */\n",
              "  background-color: var(--sklearn-color-unfitted-level-2);\n",
              "}\n",
              "\n",
              "#sk-container-id-1 div.sk-estimator.fitted:hover {\n",
              "  /* fitted */\n",
              "  background-color: var(--sklearn-color-fitted-level-2);\n",
              "}\n",
              "\n",
              "/* Specification for estimator info (e.g. \"i\" and \"?\") */\n",
              "\n",
              "/* Common style for \"i\" and \"?\" */\n",
              "\n",
              ".sk-estimator-doc-link,\n",
              "a:link.sk-estimator-doc-link,\n",
              "a:visited.sk-estimator-doc-link {\n",
              "  float: right;\n",
              "  font-size: smaller;\n",
              "  line-height: 1em;\n",
              "  font-family: monospace;\n",
              "  background-color: var(--sklearn-color-background);\n",
              "  border-radius: 1em;\n",
              "  height: 1em;\n",
              "  width: 1em;\n",
              "  text-decoration: none !important;\n",
              "  margin-left: 1ex;\n",
              "  /* unfitted */\n",
              "  border: var(--sklearn-color-unfitted-level-1) 1pt solid;\n",
              "  color: var(--sklearn-color-unfitted-level-1);\n",
              "}\n",
              "\n",
              ".sk-estimator-doc-link.fitted,\n",
              "a:link.sk-estimator-doc-link.fitted,\n",
              "a:visited.sk-estimator-doc-link.fitted {\n",
              "  /* fitted */\n",
              "  border: var(--sklearn-color-fitted-level-1) 1pt solid;\n",
              "  color: var(--sklearn-color-fitted-level-1);\n",
              "}\n",
              "\n",
              "/* On hover */\n",
              "div.sk-estimator:hover .sk-estimator-doc-link:hover,\n",
              ".sk-estimator-doc-link:hover,\n",
              "div.sk-label-container:hover .sk-estimator-doc-link:hover,\n",
              ".sk-estimator-doc-link:hover {\n",
              "  /* unfitted */\n",
              "  background-color: var(--sklearn-color-unfitted-level-3);\n",
              "  color: var(--sklearn-color-background);\n",
              "  text-decoration: none;\n",
              "}\n",
              "\n",
              "div.sk-estimator.fitted:hover .sk-estimator-doc-link.fitted:hover,\n",
              ".sk-estimator-doc-link.fitted:hover,\n",
              "div.sk-label-container:hover .sk-estimator-doc-link.fitted:hover,\n",
              ".sk-estimator-doc-link.fitted:hover {\n",
              "  /* fitted */\n",
              "  background-color: var(--sklearn-color-fitted-level-3);\n",
              "  color: var(--sklearn-color-background);\n",
              "  text-decoration: none;\n",
              "}\n",
              "\n",
              "/* Span, style for the box shown on hovering the info icon */\n",
              ".sk-estimator-doc-link span {\n",
              "  display: none;\n",
              "  z-index: 9999;\n",
              "  position: relative;\n",
              "  font-weight: normal;\n",
              "  right: .2ex;\n",
              "  padding: .5ex;\n",
              "  margin: .5ex;\n",
              "  width: min-content;\n",
              "  min-width: 20ex;\n",
              "  max-width: 50ex;\n",
              "  color: var(--sklearn-color-text);\n",
              "  box-shadow: 2pt 2pt 4pt #999;\n",
              "  /* unfitted */\n",
              "  background: var(--sklearn-color-unfitted-level-0);\n",
              "  border: .5pt solid var(--sklearn-color-unfitted-level-3);\n",
              "}\n",
              "\n",
              ".sk-estimator-doc-link.fitted span {\n",
              "  /* fitted */\n",
              "  background: var(--sklearn-color-fitted-level-0);\n",
              "  border: var(--sklearn-color-fitted-level-3);\n",
              "}\n",
              "\n",
              ".sk-estimator-doc-link:hover span {\n",
              "  display: block;\n",
              "}\n",
              "\n",
              "/* \"?\"-specific style due to the `<a>` HTML tag */\n",
              "\n",
              "#sk-container-id-1 a.estimator_doc_link {\n",
              "  float: right;\n",
              "  font-size: 1rem;\n",
              "  line-height: 1em;\n",
              "  font-family: monospace;\n",
              "  background-color: var(--sklearn-color-background);\n",
              "  border-radius: 1rem;\n",
              "  height: 1rem;\n",
              "  width: 1rem;\n",
              "  text-decoration: none;\n",
              "  /* unfitted */\n",
              "  color: var(--sklearn-color-unfitted-level-1);\n",
              "  border: var(--sklearn-color-unfitted-level-1) 1pt solid;\n",
              "}\n",
              "\n",
              "#sk-container-id-1 a.estimator_doc_link.fitted {\n",
              "  /* fitted */\n",
              "  border: var(--sklearn-color-fitted-level-1) 1pt solid;\n",
              "  color: var(--sklearn-color-fitted-level-1);\n",
              "}\n",
              "\n",
              "/* On hover */\n",
              "#sk-container-id-1 a.estimator_doc_link:hover {\n",
              "  /* unfitted */\n",
              "  background-color: var(--sklearn-color-unfitted-level-3);\n",
              "  color: var(--sklearn-color-background);\n",
              "  text-decoration: none;\n",
              "}\n",
              "\n",
              "#sk-container-id-1 a.estimator_doc_link.fitted:hover {\n",
              "  /* fitted */\n",
              "  background-color: var(--sklearn-color-fitted-level-3);\n",
              "}\n",
              "</style><div id=\"sk-container-id-1\" class=\"sk-top-container\"><div class=\"sk-text-repr-fallback\"><pre>LinearRegression()</pre><b>In a Jupyter environment, please rerun this cell to show the HTML representation or trust the notebook. <br />On GitHub, the HTML representation is unable to render, please try loading this page with nbviewer.org.</b></div><div class=\"sk-container\" hidden><div class=\"sk-item\"><div class=\"sk-estimator fitted sk-toggleable\"><input class=\"sk-toggleable__control sk-hidden--visually\" id=\"sk-estimator-id-1\" type=\"checkbox\" checked><label for=\"sk-estimator-id-1\" class=\"sk-toggleable__label fitted sk-toggleable__label-arrow fitted\">&nbsp;&nbsp;LinearRegression<a class=\"sk-estimator-doc-link fitted\" rel=\"noreferrer\" target=\"_blank\" href=\"https://scikit-learn.org/1.5/modules/generated/sklearn.linear_model.LinearRegression.html\">?<span>Documentation for LinearRegression</span></a><span class=\"sk-estimator-doc-link fitted\">i<span>Fitted</span></span></label><div class=\"sk-toggleable__content fitted\"><pre>LinearRegression()</pre></div> </div></div></div></div>"
            ]
          },
          "metadata": {},
          "execution_count": 22
        }
      ],
      "source": [
        "# このコードを実行してください（Ctrl + Enter）\n",
        "\n",
        "# 線形回帰モデルに先ほどの学習用データを用いて学習を行う\n",
        "regr.fit(train_all[['数量1']], train_all[['作業時間', '合計時間']])"
      ]
    },
    {
      "cell_type": "markdown",
      "source": [
        "---\n",
        "#####線形回帰モデルを設定し、2020年6月1日以前のデータを使ってモデルを学習させました。<br>また、2020年6月1日以降のデータをモデルの性能検証用に準備し、データに基づいた予測を行う準備が整いました。<br>次のセクションに進みましょう。\n",
        "---"
      ],
      "metadata": {
        "id": "riTTdkDlft2f"
      }
    },
    {
      "cell_type": "markdown",
      "metadata": {
        "id": "1E7YkiHJfGf3"
      },
      "source": [
        "### 2-3.モデルの精度評価"
      ]
    },
    {
      "cell_type": "markdown",
      "metadata": {
        "id": "ldAq9xHRfGf3"
      },
      "source": [
        "- 検証用でモデルの精度を確認します。  \n",
        "- 今回はMAE(mean absolute error)により正味作業時間(\"作業時間\")と付帯作業時間(\"合計時間\")の精度を評価します。\n",
        "\n",
        "- MAE（Mean Absolute Error, 平均絶対誤差）は、回帰モデルの予測精度を評価する指標の一つで、予測値と実際の値（真値）の誤差の平均を計算したものです。値が小さいほど予測精度が高いことを意味します。<br>\n",
        "- MAEは、モデルの予測精度を評価する上でよく使われる指標の一つで、特にデータのばらつきや外れ値が大きくない場合に有効です。"
      ]
    },
    {
      "cell_type": "code",
      "execution_count": 23,
      "metadata": {
        "id": "1N63VPiIfGf3",
        "colab": {
          "base_uri": "https://localhost:8080/"
        },
        "outputId": "a960b8b2-a633-44b1-aee6-d84030f9c699"
      },
      "outputs": [
        {
          "output_type": "stream",
          "name": "stdout",
          "text": [
            "正味作業時間のMAE: 9.952812099542541\n",
            "付帯作業時間のMAE: 18.54542886954304\n"
          ]
        }
      ],
      "source": [
        "# このコードを実行してください（Ctrl + Enter）\n",
        "\n",
        "# NumPyライブラリをインポートする。数値計算を効率的に行うためのツールを提供するライブラリ\n",
        "import numpy as np\n",
        "\n",
        "# 学習済みの線形回帰モデルを使って、検証データ（val_all）に対する予測値を計算する\n",
        "# ここでは、'数量1'を使って予測を行う\n",
        "y_hat = regr.predict(val_all[['数量1']])\n",
        "\n",
        "# モデルが予測した作業時間（正味作業時間）と実際の作業時間との差の絶対値を計算し、その平均（MAE: Mean Absolute Error）を表示する\n",
        "# MAEはモデルの予測精度を評価する指標で、値が小さいほど予測が正確であることを示す\n",
        "print('正味作業時間のMAE:', np.abs(val_all['作業時間'] - y_hat[:, 0]).mean())\n",
        "\n",
        "# モデルが予測した合計時間（付帯作業時間）と実際の合計時間との差の絶対値を計算し、その平均（MAE）を表示する\n",
        "print('付帯作業時間のMAE:', np.abs(val_all['合計時間'] - y_hat[:, 1]).mean())"
      ]
    },
    {
      "cell_type": "markdown",
      "metadata": {
        "id": "nl5Hvzx9fGf3"
      },
      "source": [
        "- 予実プロット（モデルが予測した値と実際の値を比較するためのグラフ）を作成してみます。まずは正味作業時間です。"
      ]
    },
    {
      "cell_type": "code",
      "execution_count": 24,
      "metadata": {
        "id": "yggendUAfGf3",
        "colab": {
          "base_uri": "https://localhost:8080/",
          "height": 268
        },
        "outputId": "a349dfc3-e30a-4962-c885-2c7cd490f904"
      },
      "outputs": [
        {
          "output_type": "display_data",
          "data": {
            "text/plain": [
              "<Figure size 360x360 with 1 Axes>"
            ],
            "image/png": "[encoded data removed]"
          },
          "metadata": {}
        }
      ],
      "source": [
        "# このコードを実行してください（Ctrl + Enter）\n",
        "\n",
        "fig, ax = plt.subplots(figsize=(4, 4), dpi=90)  # 図と軸を作成し、図のサイズと解像度を設定\n",
        "\n",
        "ax.set_xlabel('prediction', fontsize=10)  # x軸のラベルを設定し、フォントサイズを指定\n",
        "ax.set_ylabel('ground truth', fontsize=10)  # y軸のラベルを設定し、フォントサイズを指定\n",
        "\n",
        "ax.set_yscale(\"linear\")  # y軸のスケールを線形に設定\n",
        "\n",
        "# 赤い線を描画し、予測値と実際の値を比較するための基準線とする\n",
        "ax.plot([i for i in range(int(val_all['作業時間'].max()))],\n",
        "        [i for i in range(int(val_all['作業時間'].max()))], color='red')\n",
        "\n",
        "ax.scatter(y_hat[:,0], val_all['作業時間'])  # 予測値と実際の作業時間を散布図でプロット\n",
        "\n",
        "ax.grid()  # グリッド線を表示\n",
        "\n",
        "ax.set_aspect('equal')  # 軸のスケールを同じにする（正方形に近いプロットを作成）\n",
        "\n",
        "plt.show()  # グラフを表示"
      ]
    },
    {
      "cell_type": "markdown",
      "metadata": {
        "id": "98uXFFrKfGf3"
      },
      "source": [
        "- 赤い線に近い点が多ければ多いほど精度が高いことを表します。そこそこ当てられているようです。"
      ]
    },
    {
      "cell_type": "markdown",
      "metadata": {
        "id": "BuuylzGFfGf3"
      },
      "source": [
        "- 続いて付帯作業時間です。"
      ]
    },
    {
      "cell_type": "code",
      "execution_count": 25,
      "metadata": {
        "id": "zw4OKmWMfGf3",
        "colab": {
          "base_uri": "https://localhost:8080/",
          "height": 351
        },
        "outputId": "2ca1c162-8bc7-423d-ff34-7762fa52f952"
      },
      "outputs": [
        {
          "output_type": "display_data",
          "data": {
            "text/plain": [
              "<Figure size 360x360 with 1 Axes>"
            ],
            "image/png": "[encoded data removed]"
          },
          "metadata": {}
        }
      ],
      "source": [
        "# このコードを実行してください（Ctrl + Enter）\n",
        "\n",
        "fig, ax = plt.subplots(figsize=(4, 4), dpi=90)  # 図と軸を作成し、サイズと解像度を設定\n",
        "\n",
        "ax.set_xlabel('prediction', fontsize=10)  # x軸のラベルを設定\n",
        "ax.set_ylabel('ground truth', fontsize=10)  # y軸のラベルを設定\n",
        "\n",
        "ax.set_yscale(\"linear\")  # y軸を線形スケールに設定\n",
        "\n",
        "# 基準線を描画し、予測値と実際の値を比較\n",
        "ax.plot([i for i in range(int(val_all['合計時間'].max()))],\n",
        "        [i for i in range(int(val_all['合計時間'].max()))], color='red')\n",
        "\n",
        "ax.scatter(y_hat[:,1], val_all['合計時間'])  # 散布図をプロット\n",
        "\n",
        "ax.grid()  # グリッドを表示\n",
        "ax.set_aspect('equal')  # 軸のスケールを同じに設定\n",
        "\n",
        "plt.show()  # グラフを表示"
      ]
    },
    {
      "cell_type": "markdown",
      "metadata": {
        "id": "6_ha3qj7fGf3"
      },
      "source": [
        "- 付帯作業時間は当てるのが難しそうです。"
      ]
    },
    {
      "cell_type": "markdown",
      "metadata": {
        "id": "X7q8PrjBfGf3"
      },
      "source": [
        "- 余裕がある方は他の機械学習モデルを試してみましょう。<br><br>\n",
        "\n",
        "  ⭐️初学者向け解説\n",
        "  ```\n",
        "  いろいろなモデルを試すことで、どのモデルが最も正確にデータを予測できるかを見つけることができます。\n",
        "  たとえば、線形回帰だけでなく、決定木やサポートベクターマシン（SVM）なども試してみると、予測精度が向上することがあります。\n",
        "  今回は必須ではありませんが、もっと学びを深めたい方は、コミュニティ上で経験者の人に聞いてみましょう。\n",
        "  ```\n"
      ]
    },
    {
      "cell_type": "markdown",
      "source": [
        "---\n",
        "#####学習済みの線形回帰モデルを使って、検証データに基づく作業時間と合計時間の予測を行いました。<br>予測と実際の値との差（MAE: Mean Absolute Error）を計算し、モデルの予測精度を評価しました。MAEは予測の誤差を示し、値が小さいほどモデルの精度が高いことを意味します。<br>また、作業時間と合計時間について、予測値と実際の値を散布図で可視化し、モデルのパフォーマンスを視覚的に確認しました。<br>次のセクションに進みましょう。\n",
        "---"
      ],
      "metadata": {
        "id": "tC5RUej1gJke"
      }
    },
    {
      "cell_type": "markdown",
      "metadata": {
        "id": "YXuawwBBfGf3"
      },
      "source": [
        "## 3. 評価用データに対する予測"
      ]
    },
    {
      "cell_type": "markdown",
      "metadata": {
        "id": "7Nd-5jo5fGf3"
      },
      "source": [
        "- 学習したモデルを用いて、評価用データに対して正味作業時間と付帯作業時間を出力します。  \n",
        "- まず作成した学習用データと同様の評価用データを作成します。"
      ]
    },
    {
      "cell_type": "code",
      "execution_count": 26,
      "metadata": {
        "id": "kbYzftftfGf3",
        "colab": {
          "base_uri": "https://localhost:8080/"
        },
        "outputId": "64fc8aab-2a2b-4b22-a910-8ec33ccc112b"
      },
      "outputs": [
        {
          "output_type": "stream",
          "name": "stdout",
          "text": [
            "<class 'pandas.core.frame.DataFrame'>\n",
            "RangeIndex: 5983 entries, 0 to 5982\n",
            "Data columns (total 4 columns):\n",
            " #   Column  Non-Null Count  Dtype  \n",
            "---  ------  --------------  -----  \n",
            " 0   index   5983 non-null   int64  \n",
            " 1   受注番号    5983 non-null   object \n",
            " 2   号機名     5983 non-null   object \n",
            " 3   数量1     5983 non-null   float64\n",
            "dtypes: float64(1), int64(1), object(2)\n",
            "memory usage: 187.1+ KB\n"
          ]
        }
      ],
      "source": [
        "# このコードを実行してください（Ctrl + Enter）\n",
        "\n",
        "processing_test = pd.read_csv(path + 'test/processing_test.csv')  # テスト用のprocessing_test.csvファイルを読み込む\n",
        "actual_test = pd.read_csv(path + 'test/actual_test.csv')  # テスト用のactual_test.csvファイルを読み込む\n",
        "test_merged = pd.merge(actual_test, processing_test)  # 読み込んだ2つのデータフレームを結合する\n",
        "\n",
        "test_data = test_merged[['index','受注番号','号機名','数量1']]  # 必要な列だけを抽出して新しいデータフレームを作成\n",
        "\n",
        "test_data.info()  # データフレームの基本情報を表示"
      ]
    },
    {
      "cell_type": "markdown",
      "metadata": {
        "id": "2o4KePvUfGf3"
      },
      "source": [
        "- \"数量1\"が数値データ(Dtypeがfloat、浮動小数点数のデータ型)となっていることが確認できます。  \n",
        "- 作成したデータに対して予測を行います。"
      ]
    },
    {
      "cell_type": "code",
      "execution_count": 27,
      "metadata": {
        "id": "ToImUajJfGf4"
      },
      "outputs": [],
      "source": [
        "# このコードを実行してください（Ctrl + Enter）\n",
        "\n",
        "# 学習済みの線形回帰モデルを使って、テストデータの'数量1'列に基づいて予測を行う\n",
        "y_hat = regr.predict(test_data[['数量1']])"
      ]
    },
    {
      "cell_type": "markdown",
      "source": [
        "---\n",
        "#####テストデータを読み込み、加工データと実データを結合し、必要な列を抽出して新しいデータフレームを作成しました。<br>その後、学習済みの線形回帰モデルを使って、テストデータの「数量1」に基づく予測を行いました。これにより、テストデータに対する予測が完了しました。<br>次のセクションに進みましょう。\n",
        "---"
      ],
      "metadata": {
        "id": "tIdxRATggRlk"
      }
    },
    {
      "cell_type": "markdown",
      "metadata": {
        "id": "bXQgRsWzfGf4"
      },
      "source": [
        "## 4. 提出用結果ファイルの作成"
      ]
    },
    {
      "cell_type": "markdown",
      "metadata": {
        "id": "UxCa03jifGf4"
      },
      "source": [
        "- 得られた結果を提出用ファイルのフォーマットに合わせます。フォーマットは以下のようにします。  \n",
        "\n",
        "|index|正味作業時間|付帯作業時間|\n",
        "|----|----|----|\n",
        "|0|予測0_0|予測1_0|\n",
        "|...|...|...|\n",
        "|5982|予測0_5982|予測1_5982|"
      ]
    },
    {
      "cell_type": "code",
      "execution_count": 28,
      "metadata": {
        "id": "W2aD_HcTfGf4"
      },
      "outputs": [],
      "source": [
        "# このコードを実行してください（Ctrl + Enter）\n",
        "\n",
        "# 予測結果をもとに、新しいデータフレームを作成する\n",
        "# 'index'列にはテストデータのインデックス、'正味作業時間'と'付帯作業時間'には予測結果を格納する\n",
        "submit = pd.DataFrame({'index': test_data['index'], '正味作業時間': y_hat[:, 0], '付帯作業時間': y_hat[:, 1]})"
      ]
    },
    {
      "cell_type": "markdown",
      "source": [
        "---\n",
        "#####予測結果を基に、新しいデータフレームを作成し、テストデータのインデックスと予測された「正味作業時間」および「付帯作業時間」を格納しました。これにより、モデルの予測結果がまとめられたデータが完成しました。\n",
        "---"
      ],
      "metadata": {
        "id": "KE-nhD1PgZcD"
      }
    },
    {
      "cell_type": "markdown",
      "metadata": {
        "id": "rvv64T-vfGf4"
      },
      "source": [
        "- 提出フォーマットではヘッダー（1行目）はなしなので、含まないように注意します。また、DataFrameが持っているindexも除外する必要があります(4列のデータになってしまうため)。<br><br>\n",
        "  \n",
        "  ⭐️初学者向け解説\n",
        "  ```\n",
        "  DataFrameの「index」は、行を識別するためのラベルです。例えば、データの各行に番号や名前が付けられている部分です。\n",
        "  インデックスは行を特定するために使われますが、データの内容としては不要な場合があります。\n",
        "  ファイルに保存する際にインデックスを除外することで、正しいデータだけを取り扱うことができます。\n",
        "  ```"
      ]
    },
    {
      "cell_type": "code",
      "execution_count": 29,
      "metadata": {
        "id": "jcV2yLiLfGf4"
      },
      "outputs": [],
      "source": [
        "# このコードを実行してください（Ctrl + Enter）\n",
        "\n",
        "# 作成したデータフレームをCSVファイルとして保存する\n",
        "# ファイル名は'IDXXXXXX_PBL03_verXX.csv'とし、インデックスとヘッダーを含まない設定で保存する\n",
        "submit.to_csv(path + 'IDXXXXXX_PBL03_verXX.csv', index=None, header=False)"
      ]
    },
    {
      "cell_type": "markdown",
      "metadata": {
        "id": "NqMmZGx9fGf4"
      },
      "source": [
        "---\n",
        "#####予測結果が格納されたCSVファイルを「IDXXXXXX_PBL03_verXX.csv」という名前で保存することができました。<br>ファイルを識別するためにファイル名を変更しておきましょう。<br>(例：ID123456_PBL03_ver1.csv)<br>まだこれまでに一度も提出していない方は、こちらのファイルを一回目の投稿としてAIモデル精度評価サイトに提出しましょう。<br>\n",
        "---\n",
        "###AIモデル精度評価サイト　https://pbl-eval.life-is-tech.com/"
      ]
    },
    {
      "cell_type": "code",
      "source": [],
      "metadata": {
        "id": "robuP5gSTLt_"
      },
      "execution_count": null,
      "outputs": []
    }
  ],
  "metadata": {
    "colab": {
      "provenance": [],
      "include_colab_link": true
    },
    "kernelspec": {
      "display_name": "Python 3 (ipykernel)",
      "language": "python",
      "name": "python3"
    },
    "language_info": {
      "codemirror_mode": {
        "name": "ipython",
        "version": 3
      },
      "file_extension": ".py",
      "mimetype": "text/x-python",
      "name": "python",
      "nbconvert_exporter": "python",
      "pygments_lexer": "ipython3",
      "version": "3.9.12"
    }
  },
  "nbformat": 4,
  "nbformat_minor": 0
}